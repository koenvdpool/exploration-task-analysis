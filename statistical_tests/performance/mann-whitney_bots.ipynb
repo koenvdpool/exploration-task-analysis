{
 "cells": [
  {
   "cell_type": "markdown",
   "id": "8ba27a7bef53883b",
   "metadata": {},
   "source": [
    "# Mann-Whitney U test: Compare Bot Performance"
   ]
  },
  {
   "cell_type": "code",
   "execution_count": 1,
   "id": "initial_id",
   "metadata": {
    "collapsed": true,
    "jupyter": {
     "outputs_hidden": true
    },
    "ExecuteTime": {
     "end_time": "2024-06-29T09:26:55.668305Z",
     "start_time": "2024-06-29T09:26:55.664007Z"
    }
   },
   "outputs": [],
   "source": [
    "from scipy.stats import mannwhitneyu, shapiro\n",
    "import pandas as pd\n",
    "from scripts.utils import rank_biserial\n",
    "import seaborn as sns\n",
    "import matplotlib.pyplot as plt\n",
    "import scipy.stats as stats"
   ]
  },
  {
   "cell_type": "markdown",
   "id": "4655b1667636a341",
   "metadata": {},
   "source": [
    "## Compare: Bot"
   ]
  },
  {
   "cell_type": "code",
   "execution_count": 2,
   "id": "ab4cb4754ced23ae",
   "metadata": {
    "collapsed": false,
    "ExecuteTime": {
     "end_time": "2024-06-29T09:26:58.187300Z",
     "start_time": "2024-06-29T09:26:58.127795Z"
    }
   },
   "outputs": [],
   "source": [
    "# Read the CSV file\n",
    "df_6bots = pd.read_csv('../../data/performance/6bots.csv')\n",
    "df_1bot_5hum = pd.read_csv('../../data/performance/nonsem_1bot_5hum.csv')\n",
    "df_3bots_3hum = pd.read_csv('../../data/performance/nonsem_3bots_3hum.csv')\n",
    "\n",
    "# Extract the 'ItemsFound' column when isRobot == 0\n",
    "items_found_6bots = df_6bots['ItemsFound']\n",
    "items_found_1bot = df_1bot_5hum[df_1bot_5hum['isRobot'] == 1]['ItemsFound']\n",
    "items_found_3bots = df_3bots_3hum[df_3bots_3hum['isRobot'] == 1]['ItemsFound']\n",
    "\n",
    "# Extract the 'Score' column when isRobot == 0\n",
    "score_6bots = df_6bots['Score']\n",
    "score_1bot = df_1bot_5hum[df_1bot_5hum['isRobot'] == 1]['Score']\n",
    "score_3bots = df_3bots_3hum[df_3bots_3hum['isRobot'] == 1]['Score']"
   ]
  },
  {
   "cell_type": "code",
   "outputs": [
    {
     "name": "stdout",
     "output_type": "stream",
     "text": [
      "P-value of Shapiro-Wilk test for 6hum (ItemsFound): 1.607155298539195e-13\n",
      "P-value of Shapiro-Wilk test for 5hum (ItemsFound): 0.036726249987074515\n",
      "P-value of Shapiro-Wilk test for 3hum (ItemsFound): 9.00941350563365e-07\n",
      "\n",
      "\n",
      "P-value of Shapiro-Wilk test for 6hum (Scores): 1.2070404188865794e-33\n",
      "P-value of Shapiro-Wilk test for 5hum (Scores): 6.823635372820774e-08\n",
      "P-value of Shapiro-Wilk test for 3hum (Scores): 3.6845795330871215e-16\n"
     ]
    }
   ],
   "source": [
    "# Check normality assumption: items found\n",
    "shapiro_items_found_6bots = shapiro(items_found_6bots)\n",
    "shapiro_items_found_1bot = shapiro(items_found_1bot)\n",
    "shapiro_items_found_3bots = shapiro(items_found_3bots)\n",
    "\n",
    "print(f\"P-value of Shapiro-Wilk test for 6hum (ItemsFound): {shapiro_items_found_6bots[1]}\")\n",
    "print(f\"P-value of Shapiro-Wilk test for 5hum (ItemsFound): {shapiro_items_found_1bot[1]}\")\n",
    "print(f\"P-value of Shapiro-Wilk test for 3hum (ItemsFound): {shapiro_items_found_3bots[1]}\")\n",
    "print(\"\\n\")\n",
    "\n",
    "# Check normality assumption: score\n",
    "shapiro_score_6bots = shapiro(score_6bots)\n",
    "shapiro_score_1bot = shapiro(score_1bot)\n",
    "shapiro_score_3bots = shapiro(score_3bots)\n",
    "\n",
    "print(f\"P-value of Shapiro-Wilk test for 6hum (Scores): {shapiro_score_6bots[1]}\")\n",
    "print(f\"P-value of Shapiro-Wilk test for 5hum (Scores): {shapiro_score_1bot[1]}\")\n",
    "print(f\"P-value of Shapiro-Wilk test for 3hum (Scores): {shapiro_score_3bots[1]}\")"
   ],
   "metadata": {
    "collapsed": false,
    "ExecuteTime": {
     "end_time": "2024-06-29T09:27:06.138315Z",
     "start_time": "2024-06-29T09:27:06.117465Z"
    }
   },
   "id": "dae9fb4977075291",
   "execution_count": 3
  },
  {
   "cell_type": "markdown",
   "id": "c89f4666a709f6f3",
   "metadata": {},
   "source": [
    "#### Compare: 3 bots, 3 humans vs 6 bots"
   ]
  },
  {
   "cell_type": "code",
   "outputs": [
    {
     "name": "stdout",
     "output_type": "stream",
     "text": [
      "Items 6 bots vs 3 bots: U-statistic = 13188.0, p-value = 0.9999999999643204, Rank-Biserial = -0.4014161220043573\n",
      "Score 6 bots vs 3 bots: U-statistic = 13569.0, p-value = 0.99999999975118, Rank-Biserial = -0.3841230936819172\n"
     ]
    }
   ],
   "source": [
    "# Perform Mann-Whitney U test (alternative='greater') for the 'ItemsFound' column\n",
    "stat_items_6bots_vs_3bots, p_items_6bots_vs_3bots = mannwhitneyu(items_found_6bots, items_found_3bots, alternative='greater')\n",
    "r_items_6bots_vs_3bots = rank_biserial(items_found_6bots, items_found_3bots, alternative='greater')\n",
    "print(f\"Items 6 bots vs 3 bots: U-statistic = {stat_items_6bots_vs_3bots}, p-value = {p_items_6bots_vs_3bots}, Rank-Biserial = {r_items_6bots_vs_3bots}\")\n",
    "\n",
    "# Perform Mann-Whitney U test (alternative='greater') for the 'Score' column\n",
    "stat_score_6bots_vs_3bots, p_score_6bots_vs_3bots = mannwhitneyu(score_6bots, score_3bots, alternative='greater')\n",
    "r_score_6bots_vs_3bots = rank_biserial(score_6bots, score_3bots, alternative='greater')\n",
    "print(f\"Score 6 bots vs 3 bots: U-statistic = {stat_score_6bots_vs_3bots}, p-value = {p_score_6bots_vs_3bots}, Rank-Biserial = {r_score_6bots_vs_3bots}\")\n"
   ],
   "metadata": {
    "collapsed": false,
    "ExecuteTime": {
     "end_time": "2024-06-29T09:27:15.678241Z",
     "start_time": "2024-06-29T09:27:15.665977Z"
    }
   },
   "id": "4bbb175341ae490d",
   "execution_count": 4
  },
  {
   "cell_type": "markdown",
   "source": [
    "##### Compare: 3 bots, 3 humans vs 6 bots (Secondary Analysis)\n"
   ],
   "metadata": {
    "collapsed": false
   },
   "id": "9713ffba1f22c396"
  },
  {
   "cell_type": "code",
   "outputs": [
    {
     "name": "stdout",
     "output_type": "stream",
     "text": [
      "Items 3 bots vs 6 bots: U-statistic = 30876.0, p-value = 3.585527140652884e-11, Rank-Biserial = 0.4014161220043573\n",
      "Score 3 bots vs 6 bots: U-statistic = 30495.0, p-value = 2.4998805020900417e-10, Rank-Biserial = 0.3841230936819171\n"
     ]
    }
   ],
   "source": [
    "# Perform Mann-Whitney U test (alternative='greater') for the 'ItemsFound' column\n",
    "stat_items_3bots_vs_6bots, p_items_3bots_vs_6bots = mannwhitneyu(items_found_3bots, items_found_6bots, alternative='greater')\n",
    "r_items_3bots_vs_6bots = rank_biserial(items_found_3bots, items_found_6bots, alternative='greater')\n",
    "print(f\"Items 3 bots vs 6 bots: U-statistic = {stat_items_3bots_vs_6bots}, p-value = {p_items_3bots_vs_6bots}, Rank-Biserial = {r_items_3bots_vs_6bots}\")\n",
    "\n",
    "# Perform Mann-Whitney U test (alternative='greater') for the 'Score' column\n",
    "stat_score_3bots_vs_6bots, p_score_3bots_vs_6bots = mannwhitneyu(score_3bots, score_6bots, alternative='greater')\n",
    "r_score_3bots_vs_6bots = rank_biserial(score_3bots, score_6bots, alternative='greater')\n",
    "print(f\"Score 3 bots vs 6 bots: U-statistic = {stat_score_3bots_vs_6bots}, p-value = {p_score_3bots_vs_6bots}, Rank-Biserial = {r_score_3bots_vs_6bots}\")"
   ],
   "metadata": {
    "collapsed": false,
    "ExecuteTime": {
     "end_time": "2024-06-29T09:27:22.165124Z",
     "start_time": "2024-06-29T09:27:22.158747Z"
    }
   },
   "id": "97eaab18b1dd6e8d",
   "execution_count": 5
  },
  {
   "cell_type": "markdown",
   "id": "b6e8c8161d829551",
   "metadata": {},
   "source": [
    "#### Compare: 1 bot, 5 humans vs 6 bots"
   ]
  },
  {
   "cell_type": "code",
   "outputs": [
    {
     "name": "stdout",
     "output_type": "stream",
     "text": [
      "Items 6 bots vs 1 bot: U-statistic = 3580.5, p-value = 0.9015490329929088, Rank-Biserial = -0.16421568627450978\n",
      "Score 6 bots vs 1 bot: U-statistic = 3694.0, p-value = 0.8599533609883854, Rank-Biserial = -0.13772175536881415\n"
     ]
    }
   ],
   "source": [
    "# Perform Mann-Whitney U test (alternative='greater') for the 'ItemsFound' column\n",
    "stat_items_6bots_vs_1bot, p_items_6bots_vs_1bot = mannwhitneyu(items_found_6bots, items_found_1bot, alternative='greater')\n",
    "r_items_6bots_vs_1bot = rank_biserial(items_found_6bots, items_found_1bot, alternative='greater')\n",
    "print(f\"Items 6 bots vs 1 bot: U-statistic = {stat_items_6bots_vs_1bot}, p-value = {p_items_6bots_vs_1bot}, Rank-Biserial = {r_items_6bots_vs_1bot}\")\n",
    "\n",
    "# Perform Mann-Whitney U test (alternative='greater') for the 'Score' column\n",
    "stat_score_6bots_vs_1bot, p_score_6bots_vs_1bot = mannwhitneyu(score_6bots, score_1bot, alternative='greater')\n",
    "r_score_6bots_vs_1bot = rank_biserial(score_6bots, score_1bot, alternative='greater')\n",
    "print(f\"Score 6 bots vs 1 bot: U-statistic = {stat_score_6bots_vs_1bot}, p-value = {p_score_6bots_vs_1bot}, Rank-Biserial = {r_score_6bots_vs_1bot}\")\n"
   ],
   "metadata": {
    "collapsed": false,
    "ExecuteTime": {
     "end_time": "2024-06-29T09:27:28.420448Z",
     "start_time": "2024-06-29T09:27:28.417240Z"
    }
   },
   "id": "3ac48bd09cd056df",
   "execution_count": 6
  },
  {
   "cell_type": "markdown",
   "source": [
    "##### Compare: 1 bot, 5 humans vs 6 bots (Secondary Analysis)"
   ],
   "metadata": {
    "collapsed": false
   },
   "id": "885d8c7f9c4ac345"
  },
  {
   "cell_type": "code",
   "outputs": [
    {
     "name": "stdout",
     "output_type": "stream",
     "text": [
      "Items 1 bot vs 6 bots: U-statistic = 4987.5, p-value = 0.09876937944294217, Rank-Biserial = 0.1642156862745099\n",
      "Score 1 bot vs 6 bots: U-statistic = 4874.0, p-value = 0.1404542584301403, Rank-Biserial = 0.13772175536881415\n"
     ]
    }
   ],
   "source": [
    "# Perform Mann-Whitney U test (alternative='greater') for the 'ItemsFound' column\n",
    "stat_items_1bot_vs_6bots, p_items_1bot_vs_6bots = mannwhitneyu(items_found_1bot, items_found_6bots, alternative='greater')\n",
    "r_items_1bot_vs_6bots = rank_biserial(items_found_1bot, items_found_6bots, alternative='greater')\n",
    "print(f\"Items 1 bot vs 6 bots: U-statistic = {stat_items_1bot_vs_6bots}, p-value = {p_items_1bot_vs_6bots}, Rank-Biserial = {r_items_1bot_vs_6bots}\")\n",
    "\n",
    "# Perform Mann-Whitney U test (alternative='greater') for the 'Score' column\n",
    "stat_score_1bot_vs_6bots, p_score_1bot_vs_6bots = mannwhitneyu(score_1bot, score_6bots, alternative='greater')\n",
    "r_score_1bot_vs_6bots = rank_biserial(score_1bot, score_6bots, alternative='greater')\n",
    "print(f\"Score 1 bot vs 6 bots: U-statistic = {stat_score_1bot_vs_6bots}, p-value = {p_score_1bot_vs_6bots}, Rank-Biserial = {r_score_1bot_vs_6bots}\")"
   ],
   "metadata": {
    "collapsed": false,
    "ExecuteTime": {
     "end_time": "2024-06-29T09:27:33.327187Z",
     "start_time": "2024-06-29T09:27:33.322817Z"
    }
   },
   "id": "5f80388a443dc47",
   "execution_count": 7
  },
  {
   "cell_type": "markdown",
   "id": "d89cf42bea0da2f",
   "metadata": {},
   "source": [
    "#### Compare: 3 bots, 3 humans vs 1 bot, 5 humans"
   ]
  },
  {
   "cell_type": "code",
   "execution_count": 8,
   "id": "448158d2f1f6972c",
   "metadata": {
    "collapsed": false,
    "ExecuteTime": {
     "end_time": "2024-06-29T09:27:38.287077Z",
     "start_time": "2024-06-29T09:27:38.280821Z"
    }
   },
   "outputs": [
    {
     "name": "stdout",
     "output_type": "stream",
     "text": [
      "Items 3 bots vs 1 bot: U-statistic = 1297.5, p-value = 0.13755862323911805, Rank-Biserial = 0.14417989417989419\n",
      "Score 3 bots vs 1 bot: U-statistic = 1327.5, p-value = 0.10000594502202814, Rank-Biserial = 0.1706349206349207\n"
     ]
    }
   ],
   "source": [
    "# Perform Mann-Whitney U test (alternative='greater') for the 'ItemsFound' column\n",
    "stat_items_3bots_vs_1bot, p_items_3bots_vs_1bot = mannwhitneyu(items_found_3bots, items_found_1bot, alternative='greater')\n",
    "r_items_3bots_vs_1bot = rank_biserial(items_found_3bots, items_found_1bot, alternative='greater')\n",
    "print(f\"Items 3 bots vs 1 bot: U-statistic = {stat_items_3bots_vs_1bot}, p-value = {p_items_3bots_vs_1bot}, Rank-Biserial = {r_items_3bots_vs_1bot}\")\n",
    "\n",
    "# Perform Mann-Whitney U test (alternative='greater') for the 'Score' column\n",
    "stat_score_3bots_vs_1bot, p_score_3bots_vs_1bot = mannwhitneyu(score_3bots, score_1bot, alternative='greater')\n",
    "r_score_3bots_vs_1bot = rank_biserial(score_3bots, score_1bot, alternative='greater')\n",
    "print(f\"Score 3 bots vs 1 bot: U-statistic = {stat_score_3bots_vs_1bot}, p-value = {p_score_3bots_vs_1bot}, Rank-Biserial = {r_score_3bots_vs_1bot}\")"
   ]
  },
  {
   "cell_type": "code",
   "outputs": [],
   "source": [],
   "metadata": {
    "collapsed": false
   },
   "id": "5c54e26c952075af"
  }
 ],
 "metadata": {
  "kernelspec": {
   "display_name": "Python 3 (ipykernel)",
   "language": "python",
   "name": "python3"
  },
  "language_info": {
   "codemirror_mode": {
    "name": "ipython",
    "version": 3
   },
   "file_extension": ".py",
   "mimetype": "text/x-python",
   "name": "python",
   "nbconvert_exporter": "python",
   "pygments_lexer": "ipython3",
   "version": "3.11.5"
  }
 },
 "nbformat": 4,
 "nbformat_minor": 5
}
