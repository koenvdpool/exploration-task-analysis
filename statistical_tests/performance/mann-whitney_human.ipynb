{
 "cells": [
  {
   "cell_type": "markdown",
   "id": "8ba27a7bef53883b",
   "metadata": {},
   "source": [
    "# Mann-Whitney U test: Compare Human Performance"
   ]
  },
  {
   "cell_type": "code",
   "execution_count": 1,
   "id": "initial_id",
   "metadata": {
    "collapsed": true,
    "jupyter": {
     "outputs_hidden": true
    },
    "ExecuteTime": {
     "end_time": "2024-06-29T09:28:25.774250Z",
     "start_time": "2024-06-29T09:28:25.769682Z"
    }
   },
   "outputs": [],
   "source": [
    "from scipy.stats import mannwhitneyu, shapiro\n",
    "import pandas as pd\n",
    "from scripts.utils import rank_biserial"
   ]
  },
  {
   "cell_type": "markdown",
   "id": "4655b1667636a341",
   "metadata": {},
   "source": [
    "## Compare: Human"
   ]
  },
  {
   "cell_type": "code",
   "execution_count": 2,
   "id": "ab4cb4754ced23ae",
   "metadata": {
    "collapsed": false,
    "ExecuteTime": {
     "end_time": "2024-06-29T09:28:28.933225Z",
     "start_time": "2024-06-29T09:28:28.917648Z"
    }
   },
   "outputs": [],
   "source": [
    "# Read the CSV file\n",
    "df_6hum = pd.read_csv('../../data/performance/nonsem_6hum.csv')\n",
    "df_1bot_5hum = pd.read_csv('../../data/performance/nonsem_1bot_5hum.csv')\n",
    "df_3bots_3hum = pd.read_csv('../../data/performance/nonsem_3bots_3hum.csv')\n",
    "\n",
    "# Extract the 'ItemsFound' column when isRobot == 0\n",
    "items_found_6hum = df_6hum['ItemsFound']\n",
    "items_found_5hum = df_1bot_5hum[df_1bot_5hum['isRobot'] == 0]['ItemsFound']\n",
    "items_found_3hum = df_3bots_3hum[df_3bots_3hum['isRobot'] == 0]['ItemsFound']\n",
    "\n",
    "# Extract the 'Score' column when isRobot == 0\n",
    "score_6hum = df_6hum['Score']\n",
    "score_5hum = df_1bot_5hum[df_1bot_5hum['isRobot'] == 0]['Score']\n",
    "score_3hum = df_3bots_3hum[df_3bots_3hum['isRobot'] == 0]['Score']"
   ]
  },
  {
   "cell_type": "code",
   "outputs": [
    {
     "name": "stdout",
     "output_type": "stream",
     "text": [
      "P-value of Shapiro-Wilk test for 6hum (ItemsFound): 2.064731201263366e-12\n",
      "P-value of Shapiro-Wilk test for 5hum (ItemsFound): 0.0002073894558634914\n",
      "P-value of Shapiro-Wilk test for 3hum (ItemsFound): 0.00010280139774210438\n",
      "\n",
      "\n",
      "P-value of Shapiro-Wilk test for 6hum (Scores): 3.884644752840973e-36\n",
      "P-value of Shapiro-Wilk test for 5hum (Scores): 5.841863070132123e-19\n",
      "P-value of Shapiro-Wilk test for 3hum (Scores): 2.7451437063780367e-15\n"
     ]
    }
   ],
   "source": [
    "# Check normality assumption: items found\n",
    "shapiro_items_found_6hum = shapiro(items_found_6hum)\n",
    "shapiro_items_found_5hum = shapiro(items_found_5hum)\n",
    "shapiro_items_found_3hum = shapiro(items_found_3hum)\n",
    "\n",
    "print(f\"P-value of Shapiro-Wilk test for 6hum (ItemsFound): {shapiro_items_found_6hum[1]}\")\n",
    "print(f\"P-value of Shapiro-Wilk test for 5hum (ItemsFound): {shapiro_items_found_5hum[1]}\")\n",
    "print(f\"P-value of Shapiro-Wilk test for 3hum (ItemsFound): {shapiro_items_found_3hum[1]}\")\n",
    "print(\"\\n\")\n",
    "\n",
    "# Check normality assumption: score\n",
    "shapiro_score_6hum = shapiro(score_6hum)\n",
    "shapiro_score_5hum = shapiro(score_5hum)\n",
    "shapiro_score_3hum = shapiro(score_3hum)\n",
    "\n",
    "print(f\"P-value of Shapiro-Wilk test for 6hum (Scores): {shapiro_score_6hum[1]}\")\n",
    "print(f\"P-value of Shapiro-Wilk test for 5hum (Scores): {shapiro_score_5hum[1]}\")\n",
    "print(f\"P-value of Shapiro-Wilk test for 3hum (Scores): {shapiro_score_3hum[1]}\")"
   ],
   "metadata": {
    "collapsed": false,
    "ExecuteTime": {
     "end_time": "2024-06-29T09:28:35.252647Z",
     "start_time": "2024-06-29T09:28:35.236690Z"
    }
   },
   "id": "3e04cd8be3bce2c1",
   "execution_count": 3
  },
  {
   "cell_type": "markdown",
   "id": "c89f4666a709f6f3",
   "metadata": {},
   "source": [
    "#### Compare: 3 bots, 3 humans vs 6 humans"
   ]
  },
  {
   "cell_type": "code",
   "execution_count": 4,
   "id": "97eaab18b1dd6e8d",
   "metadata": {
    "collapsed": false,
    "ExecuteTime": {
     "end_time": "2024-06-29T09:29:07.767220Z",
     "start_time": "2024-06-29T09:29:07.749953Z"
    }
   },
   "outputs": [
    {
     "name": "stdout",
     "output_type": "stream",
     "text": [
      "Items 3 humans vs 6 humans: U-statistic = 24852.5, p-value = 0.003222376146221037, Rank-Biserial = 0.1714036576168929\n",
      "Score 3 humans vs 6 humans: U-statistic = 25482.0, p-value = 0.0007013835340530483, Rank-Biserial = 0.20107466063348411\n"
     ]
    }
   ],
   "source": [
    "# Perform Mann-Whitney U test (alternative='greater') for the 'ItemsFound' column\n",
    "stat_items_3hum_vs_6hum, p_items_3hum_vs_6hum = mannwhitneyu(items_found_3hum, items_found_6hum, alternative='greater')\n",
    "r_items_3hum_vs_6hum = rank_biserial(items_found_3hum, items_found_6hum, alternative='greater')\n",
    "print(f\"Items 3 humans vs 6 humans: U-statistic = {stat_items_3hum_vs_6hum}, p-value = {p_items_3hum_vs_6hum}, Rank-Biserial = {r_items_3hum_vs_6hum}\")\n",
    "\n",
    "# Perform Mann-Whitney U test (alternative='greater') for the 'Score' column\n",
    "stat_score_3hum_vs_6hum, p_score_3hum_vs_6hum = mannwhitneyu(score_3hum, score_6hum, alternative='greater')\n",
    "r_score_3hum_vs_6hum = rank_biserial(score_3hum, score_6hum, alternative='greater')\n",
    "print(f\"Score 3 humans vs 6 humans: U-statistic = {stat_score_3hum_vs_6hum}, p-value = {p_score_3hum_vs_6hum}, Rank-Biserial = {r_score_3hum_vs_6hum}\")"
   ]
  },
  {
   "cell_type": "markdown",
   "id": "b6e8c8161d829551",
   "metadata": {},
   "source": [
    "#### Compare: 1 bot, 5 humans vs 6 humans"
   ]
  },
  {
   "cell_type": "code",
   "execution_count": 5,
   "id": "5f80388a443dc47",
   "metadata": {
    "collapsed": false,
    "ExecuteTime": {
     "end_time": "2024-06-29T09:29:13.890680Z",
     "start_time": "2024-06-29T09:29:13.885351Z"
    }
   },
   "outputs": [
    {
     "name": "stdout",
     "output_type": "stream",
     "text": [
      "Items 5 humans vs 6 humans: U-statistic = 21269.5, p-value = 0.4841789174358023, Rank-Biserial = 0.0025216817496229726\n",
      "Score 5 humans vs 6 humans: U-statistic = 21406.5, p-value = 0.44348487126613423, Rank-Biserial = 0.008979072398189958\n"
     ]
    }
   ],
   "source": [
    "# Perform Mann-Whitney U test (alternative='greater') for the 'ItemsFound' column\n",
    "stat_items_5hum_vs_6hum, p_items_5hum_vs_6hum = mannwhitneyu(items_found_5hum, items_found_6hum, alternative='greater')\n",
    "r_items_5hum_vs_6hum = rank_biserial(items_found_5hum, items_found_6hum, alternative='greater')\n",
    "print(f\"Items 5 humans vs 6 humans: U-statistic = {stat_items_5hum_vs_6hum}, p-value = {p_items_5hum_vs_6hum}, Rank-Biserial = {r_items_5hum_vs_6hum}\")\n",
    "\n",
    "# Perform Mann-Whitney U test (alternative='greater') for the 'Score' column\n",
    "stat_score_5hum_vs_6hum, p_score_5hum_vs_6hum = mannwhitneyu(score_5hum, score_6hum, alternative='greater')\n",
    "r_score_5hum_vs_6hum = rank_biserial(score_5hum, score_6hum, alternative='greater')\n",
    "print(f\"Score 5 humans vs 6 humans: U-statistic = {stat_score_5hum_vs_6hum}, p-value = {p_score_5hum_vs_6hum}, Rank-Biserial = {r_score_5hum_vs_6hum}\")"
   ]
  },
  {
   "cell_type": "markdown",
   "id": "d89cf42bea0da2f",
   "metadata": {},
   "source": [
    "#### Compare: 3 bots, 3 humans vs 1 bot, 5 humans"
   ]
  },
  {
   "cell_type": "code",
   "execution_count": 6,
   "id": "3c25de1a5e9bb109",
   "metadata": {
    "collapsed": false,
    "ExecuteTime": {
     "end_time": "2024-06-29T09:29:21.128759Z",
     "start_time": "2024-06-29T09:29:21.121566Z"
    }
   },
   "outputs": [
    {
     "name": "stdout",
     "output_type": "stream",
     "text": [
      "Items 3 humans vs 5 humans: U-statistic = 6301.5, p-value = 0.01892902210684083, Rank-Biserial = 0.16521819526627213\n",
      "Score 3 humans vs 5 humans: U-statistic = 6382.0, p-value = 0.011818739015513058, Rank-Biserial = 0.1801035502958579\n"
     ]
    }
   ],
   "source": [
    "# Perform Mann-Whitney U test (alternative='greater') for the 'ItemsFound' column\n",
    "stat_items_3hum_vs_5hum, p_items_3hum_vs_5hum = mannwhitneyu(items_found_3hum, items_found_5hum, alternative='greater')\n",
    "r_items_3hum_vs_5hum = rank_biserial(items_found_3hum, items_found_5hum, alternative='greater')\n",
    "print(f\"Items 3 humans vs 5 humans: U-statistic = {stat_items_3hum_vs_5hum}, p-value = {p_items_3hum_vs_5hum}, Rank-Biserial = {r_items_3hum_vs_5hum}\")\n",
    "\n",
    "# Perform Mann-Whitney U test (alternative='greater') for the 'Score' column\n",
    "stat_score_3hum_vs_5hum, p_score_3hum_vs_5hum = mannwhitneyu(score_3hum, score_5hum, alternative='greater')\n",
    "r_score_3hum_vs_5hum = rank_biserial(score_3hum, score_5hum, alternative='greater')\n",
    "print(f\"Score 3 humans vs 5 humans: U-statistic = {stat_score_3hum_vs_5hum}, p-value = {p_score_3hum_vs_5hum}, Rank-Biserial = {r_score_3hum_vs_5hum}\")"
   ]
  },
  {
   "cell_type": "code",
   "outputs": [],
   "source": [],
   "metadata": {
    "collapsed": false
   },
   "id": "e4c3d6f77c937b6a"
  }
 ],
 "metadata": {
  "kernelspec": {
   "display_name": "Python 3 (ipykernel)",
   "language": "python",
   "name": "python3"
  },
  "language_info": {
   "codemirror_mode": {
    "name": "ipython",
    "version": 3
   },
   "file_extension": ".py",
   "mimetype": "text/x-python",
   "name": "python",
   "nbconvert_exporter": "python",
   "pygments_lexer": "ipython3",
   "version": "3.11.5"
  }
 },
 "nbformat": 4,
 "nbformat_minor": 5
}
