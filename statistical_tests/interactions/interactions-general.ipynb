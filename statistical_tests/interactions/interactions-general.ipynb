{
 "cells": [
  {
   "cell_type": "code",
   "outputs": [],
   "source": [
    "import pandas as pd\n",
    "from scipy.stats import shapiro, mannwhitneyu\n",
    "from scripts.utils import rank_biserial\n",
    "from scipy.stats import chi2_contingency\n",
    "import numpy as np"
   ],
   "metadata": {
    "collapsed": false,
    "ExecuteTime": {
     "end_time": "2024-06-29T09:43:20.456661Z",
     "start_time": "2024-06-29T09:43:20.453208Z"
    }
   },
   "id": "96cd341b3c1163da",
   "execution_count": 5
  },
  {
   "cell_type": "code",
   "outputs": [],
   "source": [
    "# File paths\n",
    "path_interactions_6h = \"../../data/interactions/nonsem_interactions_6h.csv\"\n",
    "path_interactions_1b5h = \"../../data/interactions/nonsem_interactions_1b5h.csv\"\n",
    "path_interactions_3b3h = \"../../data/interactions/nonsem_interactions_3b3h.csv\"\n",
    "\n",
    "# Load the CSV files into DataFrames\n",
    "df_interactions_6h = pd.read_csv(path_interactions_6h)\n",
    "df_interactions_1b5h = pd.read_csv(path_interactions_1b5h)\n",
    "df_interactions_3b3h = pd.read_csv(path_interactions_3b3h)"
   ],
   "metadata": {
    "collapsed": true,
    "ExecuteTime": {
     "end_time": "2024-06-29T09:43:21.627917Z",
     "start_time": "2024-06-29T09:43:21.618522Z"
    }
   },
   "id": "initial_id",
   "execution_count": 6
  },
  {
   "cell_type": "markdown",
   "source": [
    "### Difference in total interactions"
   ],
   "metadata": {
    "collapsed": false
   },
   "id": "46fa5fc70597bf6b"
  },
  {
   "cell_type": "code",
   "outputs": [],
   "source": [
    "# Extract the 'items_copied' columns\n",
    "total_interactions_6h = df_interactions_6h['total_interactions']\n",
    "total_interactions_1b5h = df_interactions_1b5h['total_interactions']\n",
    "total_interactions_3b3h = df_interactions_3b3h['total_interactions']"
   ],
   "metadata": {
    "collapsed": false,
    "ExecuteTime": {
     "end_time": "2024-06-29T09:43:24.781097Z",
     "start_time": "2024-06-29T09:43:24.777623Z"
    }
   },
   "id": "7637a55bf095ed86",
   "execution_count": 7
  },
  {
   "cell_type": "code",
   "outputs": [
    {
     "name": "stdout",
     "output_type": "stream",
     "text": [
      "P-value of Shapiro-Wilk test for normality (6H): 3.395831040569697e-14\n",
      "P-value of Shapiro-Wilk test for normality (1B5H): 1.347919472153698e-05\n",
      "P-value of Shapiro-Wilk test for normality (3B3H): 0.0011686358298843341\n"
     ]
    }
   ],
   "source": [
    "# Check normality assumption\n",
    "total_shapiro_6h = shapiro(total_interactions_6h)\n",
    "total_shapiro_1b5h = shapiro(total_interactions_1b5h)\n",
    "total_shapiro_3b3h = shapiro(total_interactions_3b3h)\n",
    "\n",
    "print(f\"P-value of Shapiro-Wilk test for normality (6H): {total_shapiro_6h[1]}\")\n",
    "print(f\"P-value of Shapiro-Wilk test for normality (1B5H): {total_shapiro_1b5h[1]}\")\n",
    "print(f\"P-value of Shapiro-Wilk test for normality (3B3H): {total_shapiro_3b3h[1]}\")"
   ],
   "metadata": {
    "collapsed": false,
    "ExecuteTime": {
     "end_time": "2024-06-29T09:43:29.462435Z",
     "start_time": "2024-06-29T09:43:29.456506Z"
    }
   },
   "id": "9eced0fdd25a676d",
   "execution_count": 8
  },
  {
   "cell_type": "code",
   "outputs": [
    {
     "name": "stdout",
     "output_type": "stream",
     "text": [
      "Mann-Whitney U test (1B5H vs. 6H): MannwhitneyuResult(statistic=np.float64(20911.0), pvalue=np.float64(0.5897938291725783))\n",
      "Mann-Whitney U test (3B3H vs. 6H): MannwhitneyuResult(statistic=np.float64(22977.0), pvalue=np.float64(0.09541878613966448))\n",
      "Mann-Whitney U test (3B3H vs. 1B5H): MannwhitneyuResult(statistic=np.float64(5965.0), pvalue=np.float64(0.09975326601492435))\n"
     ]
    }
   ],
   "source": [
    "# If normality is violated in either group, use Mann-Whitney U test\n",
    "if total_shapiro_1b5h.pvalue < 0.05 or total_shapiro_3b3h.pvalue < 0.05 and total_shapiro_6h.pvalue < 0.05:\n",
    "    mannwhitney_test_1b5h_6h = mannwhitneyu(total_interactions_1b5h,total_interactions_6h, alternative='greater')\n",
    "    mannwhitney_test_3b3h_6h = mannwhitneyu(total_interactions_3b3h,total_interactions_6h, alternative='greater')\n",
    "    mannwhitney_test_3b3h_1b5h = mannwhitneyu(total_interactions_3b3h, total_interactions_1b5h, alternative='greater')\n",
    "    \n",
    "    print(f\"Mann-Whitney U test (1B5H vs. 6H): {mannwhitney_test_1b5h_6h}\")\n",
    "    print(f\"Mann-Whitney U test (3B3H vs. 6H): {mannwhitney_test_3b3h_6h}\")\n",
    "    print(f\"Mann-Whitney U test (3B3H vs. 1B5H): {mannwhitney_test_3b3h_1b5h}\")"
   ],
   "metadata": {
    "collapsed": false,
    "ExecuteTime": {
     "end_time": "2024-06-29T09:43:32.216369Z",
     "start_time": "2024-06-29T09:43:32.208548Z"
    }
   },
   "id": "1de36fd4f2346f7a",
   "execution_count": 9
  },
  {
   "cell_type": "code",
   "outputs": [
    {
     "name": "stdout",
     "output_type": "stream",
     "text": [
      "Effect Size (r) for total interations (1B5H vs. 6H): -0.014375942684766163\n",
      "Effect Size (r) for total interations (3B3H vs. 6H): 0.08300339366515841\n",
      "Effect Size (r) for total interations (3B3H vs. 1B5H): 0.10299556213017746\n"
     ]
    }
   ],
   "source": [
    "# Calculate Effect Size (r) for Mann-Whitney U test\n",
    "effect_size_total_interactions_1b5h_6h = rank_biserial(total_interactions_1b5h, total_interactions_6h)\n",
    "effect_size_total_interactions_3b3h_6h = rank_biserial(total_interactions_3b3h, total_interactions_6h)\n",
    "effect_size_total_interactions_3b3h_1b5h = rank_biserial(total_interactions_3b3h, total_interactions_1b5h)\n",
    "\n",
    "print(f\"Effect Size (r) for total interations (1B5H vs. 6H): {effect_size_total_interactions_1b5h_6h}\")\n",
    "print(f\"Effect Size (r) for total interations (3B3H vs. 6H): {effect_size_total_interactions_3b3h_6h}\")\n",
    "print(f\"Effect Size (r) for total interations (3B3H vs. 1B5H): {effect_size_total_interactions_3b3h_1b5h}\")"
   ],
   "metadata": {
    "collapsed": false,
    "ExecuteTime": {
     "end_time": "2024-06-29T09:43:59.838557Z",
     "start_time": "2024-06-29T09:43:59.827947Z"
    }
   },
   "id": "b99088ca1705a238",
   "execution_count": 10
  },
  {
   "cell_type": "code",
   "outputs": [],
   "source": [],
   "metadata": {
    "collapsed": false
   },
   "id": "c0d74ba2d21ac363"
  }
 ],
 "metadata": {
  "kernelspec": {
   "display_name": "Python 3",
   "language": "python",
   "name": "python3"
  },
  "language_info": {
   "codemirror_mode": {
    "name": "ipython",
    "version": 2
   },
   "file_extension": ".py",
   "mimetype": "text/x-python",
   "name": "python",
   "nbconvert_exporter": "python",
   "pygments_lexer": "ipython2",
   "version": "2.7.6"
  }
 },
 "nbformat": 4,
 "nbformat_minor": 5
}
