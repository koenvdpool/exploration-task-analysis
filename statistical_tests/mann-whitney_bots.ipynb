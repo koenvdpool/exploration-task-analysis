{
 "cells": [
  {
   "cell_type": "markdown",
   "source": [
    "# Mann-Whitney U test: Compare Bot Performance"
   ],
   "metadata": {
    "collapsed": false
   },
   "id": "8ba27a7bef53883b"
  },
  {
   "cell_type": "code",
   "outputs": [],
   "source": [
    "from scipy.stats import mannwhitneyu\n",
    "import pandas as pd\n",
    "from scripts.utils import rank_biserial\n",
    "import seaborn as sns\n",
    "import matplotlib.pyplot as plt"
   ],
   "metadata": {
    "collapsed": true,
    "ExecuteTime": {
     "end_time": "2024-06-06T14:17:43.959438Z",
     "start_time": "2024-06-06T14:17:43.956157Z"
    }
   },
   "id": "initial_id",
   "execution_count": 19
  },
  {
   "cell_type": "markdown",
   "source": [
    "## Compare: Bot"
   ],
   "metadata": {
    "collapsed": false
   },
   "id": "4655b1667636a341"
  },
  {
   "cell_type": "code",
   "outputs": [],
   "source": [
    "# Read the CSV file\n",
    "df_6bots = pd.read_csv('../csv_data/6bots.csv')\n",
    "df_1bot_5hum = pd.read_csv('../csv_data/nonsem_1bot_5hum.csv')\n",
    "df_3bots_3hum = pd.read_csv('../csv_data/nonsem_3bots_3hum.csv')\n",
    "\n",
    "# Extract the 'ItemsFound' column when isRobot == 0\n",
    "items_found_6bots = df_6bots['ItemsFound']\n",
    "items_found_1bot = df_1bot_5hum[df_1bot_5hum['isRobot'] == 1]['ItemsFound']\n",
    "items_found_3bots = df_3bots_3hum[df_3bots_3hum['isRobot'] == 1]['ItemsFound']\n",
    "\n",
    "# Extract the 'Score' column when isRobot == 0\n",
    "score_6bots = df_6bots['Score']\n",
    "score_1bot = df_1bot_5hum[df_1bot_5hum['isRobot'] == 1]['Score']\n",
    "score_3bots = df_3bots_3hum[df_3bots_3hum['isRobot'] == 1]['Score']"
   ],
   "metadata": {
    "collapsed": false,
    "ExecuteTime": {
     "end_time": "2024-06-06T14:17:44.394156Z",
     "start_time": "2024-06-06T14:17:44.385211Z"
    }
   },
   "id": "ab4cb4754ced23ae",
   "execution_count": 20
  },
  {
   "cell_type": "markdown",
   "source": [
    "#### Compare Items: 3 bots, 3 humans vs 6 bots"
   ],
   "metadata": {
    "collapsed": false
   },
   "id": "c89f4666a709f6f3"
  },
  {
   "cell_type": "code",
   "outputs": [
    {
     "name": "stdout",
     "output_type": "stream",
     "text": [
      "Items 3 bots vs 6 bots: U-statistic = 30876.0, p-value = 3.585527140652884e-11, Rank-Biserial = 0.4014161220043573\n",
      "Score 3 bots vs 6 bots: U-statistic = 30495.0, p-value = 2.4998805020900417e-10, Rank-Biserial = 0.3841230936819171\n"
     ]
    }
   ],
   "source": [
    "# Perform Mann-Whitney U test (alternative='greater') for the 'ItemsFound' column\n",
    "stat_items_3bots_vs_6bots, p_items_3bots_vs_6bots = mannwhitneyu(items_found_3bots, items_found_6bots, alternative='greater')\n",
    "r_items_3bots_vs_6bots = rank_biserial(items_found_3bots, items_found_6bots, alternative='greater')\n",
    "print(f\"Items 3 bots vs 6 bots: U-statistic = {stat_items_3bots_vs_6bots}, p-value = {p_items_3bots_vs_6bots}, Rank-Biserial = {r_items_3bots_vs_6bots}\")\n",
    "\n",
    "# Perform Mann-Whitney U test (alternative='greater') for the 'Score' column\n",
    "stat_score_3bots_vs_6bots, p_score_3bots_vs_6bots = mannwhitneyu(score_3bots, score_6bots, alternative='greater')\n",
    "r_score_3bots_vs_6bots = rank_biserial(score_3bots, score_6bots, alternative='greater')\n",
    "print(f\"Score 3 bots vs 6 bots: U-statistic = {stat_score_3bots_vs_6bots}, p-value = {p_score_3bots_vs_6bots}, Rank-Biserial = {r_score_3bots_vs_6bots}\")"
   ],
   "metadata": {
    "collapsed": false,
    "ExecuteTime": {
     "end_time": "2024-06-06T14:17:44.935611Z",
     "start_time": "2024-06-06T14:17:44.927572Z"
    }
   },
   "id": "97eaab18b1dd6e8d",
   "execution_count": 21
  },
  {
   "cell_type": "markdown",
   "source": [
    "#### Compare Items: 1 bot, 5 humans vs 6 bots"
   ],
   "metadata": {
    "collapsed": false
   },
   "id": "b6e8c8161d829551"
  },
  {
   "cell_type": "code",
   "outputs": [
    {
     "name": "stdout",
     "output_type": "stream",
     "text": [
      "Items 1 bot vs 6 bots: U-statistic = 4987.5, p-value = 0.09876937944294217, Rank-Biserial = 0.1642156862745099\n",
      "Score 1 bot vs 6 bots: U-statistic = 4874.0, p-value = 0.1404542584301403, Rank-Biserial = 0.13772175536881415\n"
     ]
    }
   ],
   "source": [
    "# Perform Mann-Whitney U test (alternative='greater') for the 'ItemsFound' column\n",
    "stat_items_1bot_vs_6bots, p_items_1bot_vs_6bots = mannwhitneyu(items_found_1bot, items_found_6bots, alternative='greater')\n",
    "r_items_1bot_vs_6bots = rank_biserial(items_found_1bot, items_found_6bots, alternative='greater')\n",
    "print(f\"Items 1 bot vs 6 bots: U-statistic = {stat_items_1bot_vs_6bots}, p-value = {p_items_1bot_vs_6bots}, Rank-Biserial = {r_items_1bot_vs_6bots}\")\n",
    "\n",
    "# Perform Mann-Whitney U test (alternative='greater') for the 'Score' column\n",
    "stat_score_1bot_vs_6bots, p_score_1bot_vs_6bots = mannwhitneyu(score_1bot, score_6bots, alternative='greater')\n",
    "r_score_1bot_vs_6bots = rank_biserial(score_1bot, score_6bots, alternative='greater')\n",
    "print(f\"Score 1 bot vs 6 bots: U-statistic = {stat_score_1bot_vs_6bots}, p-value = {p_score_1bot_vs_6bots}, Rank-Biserial = {r_score_1bot_vs_6bots}\")"
   ],
   "metadata": {
    "collapsed": false,
    "ExecuteTime": {
     "end_time": "2024-06-06T14:17:45.733882Z",
     "start_time": "2024-06-06T14:17:45.730095Z"
    }
   },
   "id": "5f80388a443dc47",
   "execution_count": 22
  },
  {
   "cell_type": "markdown",
   "source": [
    "#### Compare: 3 bots, 3 humans vs 1 bot, 5 humans"
   ],
   "metadata": {
    "collapsed": false
   },
   "id": "d89cf42bea0da2f"
  },
  {
   "cell_type": "code",
   "outputs": [
    {
     "name": "stdout",
     "output_type": "stream",
     "text": [
      "Items 3 bots vs 1 bot: U-statistic = 1297.5, p-value = 0.13755862323911805, Rank-Biserial = 0.14417989417989419\n",
      "Score 3 bots vs 1 bot: U-statistic = 1327.5, p-value = 0.10000594502202814, Rank-Biserial = 0.1706349206349207\n"
     ]
    }
   ],
   "source": [
    "# Perform Mann-Whitney U test (alternative='greater') for the 'ItemsFound' column\n",
    "stat_items_3bots_vs_1bot, p_items_3bots_vs_1bot = mannwhitneyu(items_found_3bots, items_found_1bot, alternative='greater')\n",
    "r_items_3bots_vs_1bot = rank_biserial(items_found_3bots, items_found_1bot, alternative='greater')\n",
    "print(f\"Items 3 bots vs 1 bot: U-statistic = {stat_items_3bots_vs_1bot}, p-value = {p_items_3bots_vs_1bot}, Rank-Biserial = {r_items_3bots_vs_1bot}\")\n",
    "\n",
    "# Perform Mann-Whitney U test (alternative='greater') for the 'Score' column\n",
    "stat_score_3bots_vs_1bot, p_score_3bots_vs_1bot = mannwhitneyu(score_3bots, score_1bot, alternative='greater')\n",
    "r_score_3bots_vs_1bot = rank_biserial(score_3bots, score_1bot, alternative='greater')\n",
    "print(f\"Score 3 bots vs 1 bot: U-statistic = {stat_score_3bots_vs_1bot}, p-value = {p_score_3bots_vs_1bot}, Rank-Biserial = {r_score_3bots_vs_1bot}\")"
   ],
   "metadata": {
    "collapsed": false,
    "ExecuteTime": {
     "end_time": "2024-06-06T14:17:46.635894Z",
     "start_time": "2024-06-06T14:17:46.628702Z"
    }
   },
   "id": "448158d2f1f6972c",
   "execution_count": 23
  },
  {
   "cell_type": "code",
   "outputs": [],
   "source": [],
   "metadata": {
    "collapsed": false
   },
   "id": "66a2e678838aca9"
  }
 ],
 "metadata": {
  "kernelspec": {
   "display_name": "Python 3",
   "language": "python",
   "name": "python3"
  },
  "language_info": {
   "codemirror_mode": {
    "name": "ipython",
    "version": 2
   },
   "file_extension": ".py",
   "mimetype": "text/x-python",
   "name": "python",
   "nbconvert_exporter": "python",
   "pygments_lexer": "ipython2",
   "version": "2.7.6"
  }
 },
 "nbformat": 4,
 "nbformat_minor": 5
}
