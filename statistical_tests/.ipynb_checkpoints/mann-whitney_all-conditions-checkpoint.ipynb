{
 "cells": [
  {
   "cell_type": "markdown",
   "source": [
    "# Mann-Whitney U test: Compare Group Performance"
   ],
   "metadata": {
    "collapsed": false
   },
   "id": "8ba27a7bef53883b"
  },
  {
   "cell_type": "code",
   "outputs": [],
   "source": [
    "from scipy.stats import mannwhitneyu\n",
    "import pandas as pd\n",
    "from scripts.utils import rank_biserial"
   ],
   "metadata": {
    "collapsed": true,
    "ExecuteTime": {
     "end_time": "2024-06-06T12:51:07.506797Z",
     "start_time": "2024-06-06T12:51:07.500916Z"
    }
   },
   "id": "initial_id",
   "execution_count": 40
  },
  {
   "cell_type": "markdown",
   "source": [
    "## Compare: All"
   ],
   "metadata": {
    "collapsed": false
   },
   "id": "4655b1667636a341"
  },
  {
   "cell_type": "code",
   "outputs": [],
   "source": [
    "# Read the CSV file\n",
    "df_6hum = pd.read_csv('../csv_data/nonsem_6hum.csv')\n",
    "df_6bots = pd.read_csv('../csv_data/6bots.csv')\n",
    "df_1bot_5hum = pd.read_csv('../csv_data/nonsem_1bot_5hum.csv')\n",
    "df_3bots_3hum = pd.read_csv('../csv_data/nonsem_3bots_3hum.csv')\n",
    "\n",
    "# Extract the 'ItemsFound' column\n",
    "items_found_6hum = df_6hum['ItemsFound']\n",
    "items_found_6bots = df_6bots['ItemsFound']\n",
    "items_found_1bot_5hum = df_1bot_5hum['ItemsFound']\n",
    "items_found_3bots_3hum = df_3bots_3hum['ItemsFound']\n",
    "\n",
    "#Extract the 'Score' column\n",
    "score_6hum = df_6hum['Score']\n",
    "score_6bots = df_6bots['Score']\n",
    "score_1bot_5hum = df_1bot_5hum['Score']\n",
    "score_3bots_3hum = df_3bots_3hum['Score']"
   ],
   "metadata": {
    "collapsed": false,
    "ExecuteTime": {
     "end_time": "2024-06-06T12:51:07.801348Z",
     "start_time": "2024-06-06T12:51:07.793092Z"
    }
   },
   "id": "ab4cb4754ced23ae",
   "execution_count": 41
  },
  {
   "cell_type": "markdown",
   "source": [
    "#### Compare: 6 bots vs 6 humans (Preliminary Study)"
   ],
   "metadata": {
    "collapsed": false
   },
   "id": "75187076b58c9590"
  },
  {
   "cell_type": "code",
   "outputs": [
    {
     "name": "stdout",
     "output_type": "stream",
     "text": [
      "Items 6 bots vs 6 humans: U-statistic = 108218.5, p-value = 3.7544720164112874e-14, Rank-Biserial = 0.3002030469050365\n",
      "Score 6 bots vs 6 humans: U-statistic = 109807.0, p-value = 9.668901554336394e-16, Rank-Biserial = 0.3192882545174933\n"
     ]
    }
   ],
   "source": [
    "# Perform Mann-Whitney U test (alternative='greater') for the 'ItemsFound' column\n",
    "stat_items_6bots_vs_6hum, p_items_6bots_vs_6hum = mannwhitneyu(items_found_6bots, items_found_6hum, alternative='greater')\n",
    "r_items_6bots_vs_6hum = rank_biserial(items_found_6bots, items_found_6hum, alternative='greater')\n",
    "print(f\"Items 6 bots vs 6 humans: U-statistic = {stat_items_6bots_vs_6hum}, p-value = {p_items_6bots_vs_6hum}, Rank-Biserial = {r_items_6bots_vs_6hum}\")\n",
    "\n",
    "# Perform Mann-Whitney U test (alternative='greater') for the 'Score' column\n",
    "stat_score_6bots_vs_6hum, p_score_6bots_vs_6hum = mannwhitneyu(score_6bots, score_6hum, alternative='greater')\n",
    "r_score_6bots_vs_6hum = rank_biserial(score_6bots, score_6hum, alternative='greater')\n",
    "print(f\"Score 6 bots vs 6 humans: U-statistic = {stat_score_6bots_vs_6hum}, p-value = {p_score_6bots_vs_6hum}, Rank-Biserial = {r_score_6bots_vs_6hum}\")"
   ],
   "metadata": {
    "collapsed": false,
    "ExecuteTime": {
     "end_time": "2024-06-06T12:51:08.155941Z",
     "start_time": "2024-06-06T12:51:08.149813Z"
    }
   },
   "id": "952c4ec7681adc4b",
   "execution_count": 42
  },
  {
   "cell_type": "markdown",
   "source": [
    "#### Compare: 3 bots, 3 humans vs 6 humans"
   ],
   "metadata": {
    "collapsed": false
   },
   "id": "c89f4666a709f6f3"
  },
  {
   "cell_type": "code",
   "outputs": [
    {
     "name": "stdout",
     "output_type": "stream",
     "text": [
      "Items 3 bots, 3 humans vs 6 humans: U-statistic = 58383.5, p-value = 2.303272931313881e-13, Rank-Biserial = 0.34996994080651134\n",
      "Score 3 bots, 3 humans vs 6 humans: U-statistic = 59418.0, p-value = 5.7460015459563286e-15, Rank-Biserial = 0.37389012208657046\n"
     ]
    }
   ],
   "source": [
    "# Perform Mann-Whitney U test (alternative='greater') for the 'ItemsFound' column\n",
    "stat_items_3bots_3hum_vs_6hum, p_items_3bots_3hum_vs_6hum = mannwhitneyu(items_found_3bots_3hum, items_found_6hum, alternative='greater')\n",
    "r_items_3bots_3hum_vs_6hum = rank_biserial(items_found_3bots_3hum, items_found_6hum, alternative='greater')\n",
    "print(f\"Items 3 bots, 3 humans vs 6 humans: U-statistic = {stat_items_3bots_3hum_vs_6hum}, p-value = {p_items_3bots_3hum_vs_6hum}, Rank-Biserial = {r_items_3bots_3hum_vs_6hum}\")\n",
    "\n",
    "# Perform Mann-Whitney U test (alternative='greater') for the 'Score' column\n",
    "stat_score_3bots_3hum_vs_6hum, p_score_3bots_3hum_vs_6hum = mannwhitneyu(score_3bots_3hum, score_6hum, alternative='greater')\n",
    "r_score_3bots_3hum_vs_6hum = rank_biserial(score_3bots_3hum, score_6hum, alternative='greater')\n",
    "print(f\"Score 3 bots, 3 humans vs 6 humans: U-statistic = {stat_score_3bots_3hum_vs_6hum}, p-value = {p_score_3bots_3hum_vs_6hum}, Rank-Biserial = {r_score_3bots_3hum_vs_6hum}\")"
   ],
   "metadata": {
    "collapsed": false,
    "ExecuteTime": {
     "end_time": "2024-06-06T12:51:08.479375Z",
     "start_time": "2024-06-06T12:51:08.470750Z"
    }
   },
   "id": "97eaab18b1dd6e8d",
   "execution_count": 43
  },
  {
   "cell_type": "markdown",
   "source": [
    "#### Compare: 3 bots, 3 humans vs 6 bots"
   ],
   "metadata": {
    "collapsed": false
   },
   "id": "4f8f079690398d04"
  },
  {
   "cell_type": "code",
   "outputs": [
    {
     "name": "stdout",
     "output_type": "stream",
     "text": [
      "Items 3 bots, 3 humans vs 6 bots: U-statistic = 49731.5, p-value = 0.0009533557062600396, Rank-Biserial = 0.14991444691083977\n",
      "Score 3 bots, 3 humans vs 6 bots: U-statistic = 49606.5, p-value = 0.0011957225208056297, Rank-Biserial = 0.14702413984461704\n"
     ]
    }
   ],
   "source": [
    "# Perform Mann-Whitney U test (alternative='greater') for the 'ItemsFound' column\n",
    "stat_items_3bots_3hum_vs_6bots, p_items_3bots_3hum_vs_6bots = mannwhitneyu(items_found_3bots_3hum, items_found_6bots, alternative='greater')\n",
    "r_items_3bots_3hum_vs_6bots = rank_biserial(items_found_3bots_3hum, items_found_6bots, alternative='greater')\n",
    "print(f\"Items 3 bots, 3 humans vs 6 bots: U-statistic = {stat_items_3bots_3hum_vs_6bots}, p-value = {p_items_3bots_3hum_vs_6bots}, Rank-Biserial = {r_items_3bots_3hum_vs_6bots}\")\n",
    "\n",
    "# Perform Mann-Whitney U test (alternative='greater') for the 'Score' column\n",
    "stat_score_3bots_3hum_vs_6bots, p_score_3bots_3hum_vs_6bots = mannwhitneyu(score_3bots_3hum, score_6bots, alternative='greater')\n",
    "r_score_3bots_3hum_vs_6bots = rank_biserial(score_3bots_3hum, score_6bots, alternative='greater')\n",
    "print(f\"Score 3 bots, 3 humans vs 6 bots: U-statistic = {stat_score_3bots_3hum_vs_6bots}, p-value = {p_score_3bots_3hum_vs_6bots}, Rank-Biserial = {r_score_3bots_3hum_vs_6bots}\")"
   ],
   "metadata": {
    "collapsed": false,
    "ExecuteTime": {
     "end_time": "2024-06-06T12:51:08.811021Z",
     "start_time": "2024-06-06T12:51:08.806470Z"
    }
   },
   "id": "5e34cecd6752817",
   "execution_count": 44
  },
  {
   "cell_type": "markdown",
   "source": [
    "#### Compare: 1 bot, 5 humans vs 6 humans"
   ],
   "metadata": {
    "collapsed": false
   },
   "id": "b6e8c8161d829551"
  },
  {
   "cell_type": "code",
   "outputs": [
    {
     "name": "stdout",
     "output_type": "stream",
     "text": [
      "Items 1 bot, 5 humans vs 6 humans: U-statistic = 27380.0, p-value = 0.10418394988284796, Rank-Biserial = 0.07372549019607844\n",
      "Score 1 bot, 5 humans vs 6 humans: U-statistic = 27507.5, p-value = 0.08967589441768631, Rank-Biserial = 0.07872549019607833\n"
     ]
    }
   ],
   "source": [
    "# Perform Mann-Whitney U test (alternative='greater') for the 'ItemsFound' column\n",
    "stat_items_1bot_5hum_vs_6hum, p_items_1bot_5hum_vs_6hum = mannwhitneyu(items_found_1bot_5hum, items_found_6hum, alternative='greater')\n",
    "r_items_1bot_5hum_vs_6hum = rank_biserial(items_found_1bot_5hum, items_found_6hum, alternative='greater')\n",
    "print(f\"Items 1 bot, 5 humans vs 6 humans: U-statistic = {stat_items_1bot_5hum_vs_6hum}, p-value = {p_items_1bot_5hum_vs_6hum}, Rank-Biserial = {r_items_1bot_5hum_vs_6hum}\")\n",
    "\n",
    "# Perform Mann-Whitney U test (alternative='greater') for the 'Score' column\n",
    "stat_score_1bot_5hum_vs_6hum, p_score_1bot_5hum_vs_6hum = mannwhitneyu(score_1bot_5hum, score_6hum, alternative='greater')\n",
    "r_score_1bot_5hum_vs_6hum = rank_biserial(score_1bot_5hum, score_6hum, alternative='greater')\n",
    "print(f\"Score 1 bot, 5 humans vs 6 humans: U-statistic = {stat_score_1bot_5hum_vs_6hum}, p-value = {p_score_1bot_5hum_vs_6hum}, Rank-Biserial = {r_score_1bot_5hum_vs_6hum}\")"
   ],
   "metadata": {
    "collapsed": false,
    "ExecuteTime": {
     "end_time": "2024-06-06T12:51:09.189014Z",
     "start_time": "2024-06-06T12:51:09.183812Z"
    }
   },
   "id": "5f80388a443dc47",
   "execution_count": 45
  },
  {
   "cell_type": "markdown",
   "source": [
    "#### Compare: 1 bot, 5 humans vs 6 bots"
   ],
   "metadata": {
    "collapsed": false
   },
   "id": "5dafaa24b2610b5f"
  },
  {
   "cell_type": "code",
   "outputs": [
    {
     "name": "stdout",
     "output_type": "stream",
     "text": [
      "Items 1 bot, 5 humans vs 6 bots: U-statistic = 19452.0, p-value = 0.9999754211181969, Rank-Biserial = -0.23717647058823532\n",
      "Score 1 bot, 5 humans vs 6 bots: U-statistic = 19250.5, p-value = 0.9999859320217243, Rank-Biserial = -0.24507843137254903\n"
     ]
    }
   ],
   "source": [
    "# Perform Mann-Whitney U test (alternative='greater') for the 'ItemsFound' column\n",
    "stat_items_1bot_5hum_vs_6bots, p_items_1bot_5hum_vs_6bots = mannwhitneyu(items_found_1bot_5hum, items_found_6bots, alternative='greater')\n",
    "r_items_1bot_5hum_vs_6bots = rank_biserial(items_found_1bot_5hum, items_found_6bots, alternative='greater')\n",
    "print(f\"Items 1 bot, 5 humans vs 6 bots: U-statistic = {stat_items_1bot_5hum_vs_6bots}, p-value = {p_items_1bot_5hum_vs_6bots}, Rank-Biserial = {r_items_1bot_5hum_vs_6bots}\")\n",
    "\n",
    "# Perform Mann-Whitney U test (alternative='greater') for the 'Score' column\n",
    "stat_score_1bot_5hum_vs_6bots, p_score_1bot_5hum_vs_6bots = mannwhitneyu(score_1bot_5hum, score_6bots, alternative='greater')\n",
    "r_score_1bot_5hum_vs_6bots = rank_biserial(score_1bot_5hum, score_6bots, alternative='greater')\n",
    "print(f\"Score 1 bot, 5 humans vs 6 bots: U-statistic = {stat_score_1bot_5hum_vs_6bots}, p-value = {p_score_1bot_5hum_vs_6bots}, Rank-Biserial = {r_score_1bot_5hum_vs_6bots}\")"
   ],
   "metadata": {
    "collapsed": false,
    "ExecuteTime": {
     "end_time": "2024-06-06T12:51:10.032443Z",
     "start_time": "2024-06-06T12:51:10.025420Z"
    }
   },
   "id": "807853e4f74d0b4",
   "execution_count": 46
  },
  {
   "cell_type": "markdown",
   "source": [
    "#### Compare: 3 bots, 3 humans vs 1 bot, 5 humans"
   ],
   "metadata": {
    "collapsed": false
   },
   "id": "d89cf42bea0da2f"
  },
  {
   "cell_type": "code",
   "outputs": [
    {
     "name": "stdout",
     "output_type": "stream",
     "text": [
      "Items 3 bots, 3 humans vs 1 bot, 5 humans: U-statistic = 16886.5, p-value = 9.302451612574043e-06, Rank-Biserial = 0.2744528301886793\n",
      "Score 3 bots, 3 humans vs 1 bot, 5 humans: U-statistic = 17034.5, p-value = 4.3489311178726575e-06, Rank-Biserial = 0.28562264150943406\n"
     ]
    }
   ],
   "source": [
    "# Perform Mann-Whitney U test (alternative='greater') for the 'ItemsFound' column\n",
    "stat_items_3bots_3hum_vs_1bot_5hum, p_items_3bots_3hum_vs_1bot_5hum = mannwhitneyu(items_found_3bots_3hum, items_found_1bot_5hum, alternative='greater')\n",
    "r_items_3bots_3hum_vs_1bot_5hum = rank_biserial(items_found_3bots_3hum, items_found_1bot_5hum, alternative='greater')\n",
    "print(f\"Items 3 bots, 3 humans vs 1 bot, 5 humans: U-statistic = {stat_items_3bots_3hum_vs_1bot_5hum}, p-value = {p_items_3bots_3hum_vs_1bot_5hum}, Rank-Biserial = {r_items_3bots_3hum_vs_1bot_5hum}\")\n",
    "\n",
    "# Perform Mann-Whitney U test (alternative='greater') for the 'Score' column\n",
    "stat_score_3bots_3hum_vs_1bot_5hum, p_score_3bots_3hum_vs_1bot_5hum = mannwhitneyu(score_3bots_3hum, score_1bot_5hum, alternative='greater')\n",
    "r_score_3bots_3hum_vs_1bot_5hum = rank_biserial(score_3bots_3hum, score_1bot_5hum, alternative='greater')\n",
    "print(f\"Score 3 bots, 3 humans vs 1 bot, 5 humans: U-statistic = {stat_score_3bots_3hum_vs_1bot_5hum}, p-value = {p_score_3bots_3hum_vs_1bot_5hum}, Rank-Biserial = {r_score_3bots_3hum_vs_1bot_5hum}\")"
   ],
   "metadata": {
    "collapsed": false,
    "ExecuteTime": {
     "end_time": "2024-06-06T12:51:11.300787Z",
     "start_time": "2024-06-06T12:51:11.288596Z"
    }
   },
   "id": "3c25de1a5e9bb109",
   "execution_count": 47
  },
  {
   "cell_type": "code",
   "outputs": [],
   "source": [],
   "metadata": {
    "collapsed": false
   },
   "id": "9bcecf89411ec98a"
  }
 ],
 "metadata": {
  "kernelspec": {
   "display_name": "Python 3",
   "language": "python",
   "name": "python3"
  },
  "language_info": {
   "codemirror_mode": {
    "name": "ipython",
    "version": 2
   },
   "file_extension": ".py",
   "mimetype": "text/x-python",
   "name": "python",
   "nbconvert_exporter": "python",
   "pygments_lexer": "ipython2",
   "version": "2.7.6"
  }
 },
 "nbformat": 4,
 "nbformat_minor": 5
}
