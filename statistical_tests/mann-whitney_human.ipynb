{
 "cells": [
  {
   "cell_type": "markdown",
   "id": "8ba27a7bef53883b",
   "metadata": {},
   "source": [
    "# Mann-Whitney U test: Compare Human Performance"
   ]
  },
  {
   "cell_type": "code",
   "execution_count": 1,
   "id": "initial_id",
   "metadata": {
    "collapsed": true,
    "jupyter": {
     "outputs_hidden": true
    },
    "ExecuteTime": {
     "end_time": "2024-06-11T12:30:16.207093Z",
     "start_time": "2024-06-11T12:30:15.276164Z"
    }
   },
   "outputs": [],
   "source": [
    "from scipy.stats import mannwhitneyu\n",
    "import pandas as pd\n",
    "from scripts.utils import rank_biserial"
   ]
  },
  {
   "cell_type": "markdown",
   "id": "4655b1667636a341",
   "metadata": {},
   "source": [
    "## Compare: Human"
   ]
  },
  {
   "cell_type": "code",
   "execution_count": 2,
   "id": "ab4cb4754ced23ae",
   "metadata": {
    "collapsed": false,
    "ExecuteTime": {
     "end_time": "2024-06-11T12:30:18.289054Z",
     "start_time": "2024-06-11T12:30:18.279574Z"
    }
   },
   "outputs": [],
   "source": [
    "# Read the CSV file\n",
    "df_6hum = pd.read_csv('../csv_data/nonsem_6hum.csv')\n",
    "df_1bot_5hum = pd.read_csv('../csv_data/nonsem_1bot_5hum.csv')\n",
    "df_3bots_3hum = pd.read_csv('../csv_data/nonsem_3bots_3hum.csv')\n",
    "\n",
    "# Extract the 'ItemsFound' column when isRobot == 0\n",
    "items_found_6hum = df_6hum['ItemsFound']\n",
    "items_found_5hum = df_1bot_5hum[df_1bot_5hum['isRobot'] == 0]['ItemsFound']\n",
    "items_found_3hum = df_3bots_3hum[df_3bots_3hum['isRobot'] == 0]['ItemsFound']\n",
    "\n",
    "# Extract the 'Score' column when isRobot == 0\n",
    "score_6hum = df_6hum['Score']\n",
    "score_5hum = df_1bot_5hum[df_1bot_5hum['isRobot'] == 0]['Score']\n",
    "score_3hum = df_3bots_3hum[df_3bots_3hum['isRobot'] == 0]['Score']"
   ]
  },
  {
   "cell_type": "markdown",
   "id": "c89f4666a709f6f3",
   "metadata": {},
   "source": [
    "#### Compare Items: 3 bots, 3 humans vs 6 humans"
   ]
  },
  {
   "cell_type": "code",
   "execution_count": 3,
   "id": "97eaab18b1dd6e8d",
   "metadata": {
    "collapsed": false,
    "ExecuteTime": {
     "end_time": "2024-06-11T12:30:19.953735Z",
     "start_time": "2024-06-11T12:30:19.942250Z"
    }
   },
   "outputs": [
    {
     "name": "stdout",
     "output_type": "stream",
     "text": [
      "Items 3 humans vs 6 humans: U-statistic = 24852.5, p-value = 0.003222376146221037, Rank-Biserial = 0.1714036576168929\n",
      "Score 3 humans vs 6 humans: U-statistic = 25482.0, p-value = 0.0007013835340530483, Rank-Biserial = 0.20107466063348411\n"
     ]
    }
   ],
   "source": [
    "# Perform Mann-Whitney U test (alternative='greater') for the 'ItemsFound' column\n",
    "stat_items_3hum_vs_6hum, p_items_3hum_vs_6hum = mannwhitneyu(items_found_3hum, items_found_6hum, alternative='greater')\n",
    "r_items_3hum_vs_6hum = rank_biserial(items_found_3hum, items_found_6hum, alternative='greater')\n",
    "print(f\"Items 3 humans vs 6 humans: U-statistic = {stat_items_3hum_vs_6hum}, p-value = {p_items_3hum_vs_6hum}, Rank-Biserial = {r_items_3hum_vs_6hum}\")\n",
    "\n",
    "# Perform Mann-Whitney U test (alternative='greater') for the 'Score' column\n",
    "stat_score_3hum_vs_6hum, p_score_3hum_vs_6hum = mannwhitneyu(score_3hum, score_6hum, alternative='greater')\n",
    "r_score_3hum_vs_6hum = rank_biserial(score_3hum, score_6hum, alternative='greater')\n",
    "print(f\"Score 3 humans vs 6 humans: U-statistic = {stat_score_3hum_vs_6hum}, p-value = {p_score_3hum_vs_6hum}, Rank-Biserial = {r_score_3hum_vs_6hum}\")"
   ]
  },
  {
   "cell_type": "code",
   "outputs": [
    {
     "name": "stdout",
     "output_type": "stream",
     "text": [
      "Items 6 humans vs 3 humans (6hum > 3hum): U-statistic = 17579.5, p-value = 0.9967849272104046, Rank-Biserial = -0.1714036576168929\n",
      "Score 6 humans vs 3 humans (6hum > 3hum): U-statistic = 16950.0, p-value = 0.9993004336426138, Rank-Biserial = -0.20107466063348411\n"
     ]
    }
   ],
   "source": [
    "# Perform Mann-Whitney U test (alternative='greater') for the 'ItemsFound' column (6hum > 3hum)\n",
    "stat_items_6hum_vs_3hum, p_items_6hum_vs_3hum = mannwhitneyu(items_found_6hum, items_found_3hum, alternative='greater')\n",
    "r_items_6hum_vs_3hum = rank_biserial(items_found_6hum, items_found_3hum, alternative='greater')\n",
    "print(f\"Items 6 humans vs 3 humans (6hum > 3hum): U-statistic = {stat_items_6hum_vs_3hum}, p-value = {p_items_6hum_vs_3hum}, Rank-Biserial = {r_items_6hum_vs_3hum}\")\n",
    "\n",
    "# Perform Mann-Whitney U test (alternative='greater') for the 'Score' column (6hum > 3hum)\n",
    "stat_score_6hum_vs_3hum, p_score_6hum_vs_3hum = mannwhitneyu(score_6hum, score_3hum, alternative='greater')\n",
    "r_score_6hum_vs_3hum = rank_biserial(score_6hum, score_3hum, alternative='greater')\n",
    "print(f\"Score 6 humans vs 3 humans (6hum > 3hum): U-statistic = {stat_score_6hum_vs_3hum}, p-value = {p_score_6hum_vs_3hum}, Rank-Biserial = {r_score_6hum_vs_3hum}\")\n"
   ],
   "metadata": {
    "collapsed": false,
    "ExecuteTime": {
     "end_time": "2024-06-11T12:31:48.793989Z",
     "start_time": "2024-06-11T12:31:48.778912Z"
    }
   },
   "id": "658871b8718100bb",
   "execution_count": 5
  },
  {
   "cell_type": "markdown",
   "id": "b6e8c8161d829551",
   "metadata": {},
   "source": [
    "#### Compare Items: 1 bot, 5 humans vs 6 humans"
   ]
  },
  {
   "cell_type": "code",
   "execution_count": 6,
   "id": "5f80388a443dc47",
   "metadata": {
    "collapsed": false,
    "ExecuteTime": {
     "end_time": "2024-06-11T12:31:50.244410Z",
     "start_time": "2024-06-11T12:31:50.239993Z"
    }
   },
   "outputs": [
    {
     "name": "stdout",
     "output_type": "stream",
     "text": [
      "Items 5 humans vs 6 humans: U-statistic = 21269.5, p-value = 0.4841789174358023, Rank-Biserial = 0.0025216817496229726\n",
      "Score 5 humans vs 6 humans: U-statistic = 21406.5, p-value = 0.44348487126613423, Rank-Biserial = 0.008979072398189958\n"
     ]
    }
   ],
   "source": [
    "# Perform Mann-Whitney U test (alternative='greater') for the 'ItemsFound' column\n",
    "stat_items_5hum_vs_6hum, p_items_5hum_vs_6hum = mannwhitneyu(items_found_5hum, items_found_6hum, alternative='greater')\n",
    "r_items_5hum_vs_6hum = rank_biserial(items_found_5hum, items_found_6hum, alternative='greater')\n",
    "print(f\"Items 5 humans vs 6 humans: U-statistic = {stat_items_5hum_vs_6hum}, p-value = {p_items_5hum_vs_6hum}, Rank-Biserial = {r_items_5hum_vs_6hum}\")\n",
    "\n",
    "# Perform Mann-Whitney U test (alternative='greater') for the 'Score' column\n",
    "stat_score_5hum_vs_6hum, p_score_5hum_vs_6hum = mannwhitneyu(score_5hum, score_6hum, alternative='greater')\n",
    "r_score_5hum_vs_6hum = rank_biserial(score_5hum, score_6hum, alternative='greater')\n",
    "print(f\"Score 5 humans vs 6 humans: U-statistic = {stat_score_5hum_vs_6hum}, p-value = {p_score_5hum_vs_6hum}, Rank-Biserial = {r_score_5hum_vs_6hum}\")"
   ]
  },
  {
   "cell_type": "code",
   "outputs": [
    {
     "name": "stdout",
     "output_type": "stream",
     "text": [
      "Items 6 humans vs 5 humans (6hum > 5hum): U-statistic = 21162.5, p-value = 0.5161194325581966, Rank-Biserial = -0.0025216817496229726\n",
      "Score 6 humans vs 5 humans (6hum > 5hum): U-statistic = 21025.5, p-value = 0.5568105632552806, Rank-Biserial = -0.008979072398190069\n"
     ]
    }
   ],
   "source": [
    "# Perform Mann-Whitney U test (alternative='greater') for the 'ItemsFound' column (6hum > 5hum)\n",
    "stat_items_6hum_vs_5hum, p_items_6hum_vs_5hum = mannwhitneyu(items_found_6hum, items_found_5hum, alternative='greater')\n",
    "r_items_6hum_vs_5hum = rank_biserial(items_found_6hum, items_found_5hum, alternative='greater')\n",
    "print(f\"Items 6 humans vs 5 humans (6hum > 5hum): U-statistic = {stat_items_6hum_vs_5hum}, p-value = {p_items_6hum_vs_5hum}, Rank-Biserial = {r_items_6hum_vs_5hum}\")\n",
    "\n",
    "# Perform Mann-Whitney U test (alternative='greater') for the 'Score' column (6hum > 5hum)\n",
    "stat_score_6hum_vs_5hum, p_score_6hum_vs_5hum = mannwhitneyu(score_6hum, score_5hum, alternative='greater')\n",
    "r_score_6hum_vs_5hum = rank_biserial(score_6hum, score_5hum, alternative='greater')\n",
    "print(f\"Score 6 humans vs 5 humans (6hum > 5hum): U-statistic = {stat_score_6hum_vs_5hum}, p-value = {p_score_6hum_vs_5hum}, Rank-Biserial = {r_score_6hum_vs_5hum}\")\n"
   ],
   "metadata": {
    "collapsed": false,
    "ExecuteTime": {
     "end_time": "2024-06-11T12:32:27.473100Z",
     "start_time": "2024-06-11T12:32:27.462292Z"
    }
   },
   "id": "7d8752b677b769e3",
   "execution_count": 8
  },
  {
   "cell_type": "markdown",
   "id": "d89cf42bea0da2f",
   "metadata": {},
   "source": [
    "#### Compare: 3 bots, 3 humans vs 1 bot, 5 humans"
   ]
  },
  {
   "cell_type": "code",
   "execution_count": 10,
   "id": "3c25de1a5e9bb109",
   "metadata": {
    "collapsed": false,
    "ExecuteTime": {
     "end_time": "2024-06-11T12:32:52.643566Z",
     "start_time": "2024-06-11T12:32:52.633211Z"
    }
   },
   "outputs": [
    {
     "name": "stdout",
     "output_type": "stream",
     "text": [
      "Items 3 humans vs 5 humans: U-statistic = 6301.5, p-value = 0.01892902210684083, Rank-Biserial = 0.16521819526627213\n",
      "Score 3 humans vs 5 humans: U-statistic = 6382.0, p-value = 0.011818739015513058, Rank-Biserial = 0.1801035502958579\n"
     ]
    }
   ],
   "source": [
    "# Perform Mann-Whitney U test (alternative='greater') for the 'ItemsFound' column\n",
    "stat_items_3hum_vs_5hum, p_items_3hum_vs_5hum = mannwhitneyu(items_found_3hum, items_found_5hum, alternative='greater')\n",
    "r_items_3hum_vs_5hum = rank_biserial(items_found_3hum, items_found_5hum, alternative='greater')\n",
    "print(f\"Items 3 humans vs 5 humans: U-statistic = {stat_items_3hum_vs_5hum}, p-value = {p_items_3hum_vs_5hum}, Rank-Biserial = {r_items_3hum_vs_5hum}\")\n",
    "\n",
    "# Perform Mann-Whitney U test (alternative='greater') for the 'Score' column\n",
    "stat_score_3hum_vs_5hum, p_score_3hum_vs_5hum = mannwhitneyu(score_3hum, score_5hum, alternative='greater')\n",
    "r_score_3hum_vs_5hum = rank_biserial(score_3hum, score_5hum, alternative='greater')\n",
    "print(f\"Score 3 humans vs 5 humans: U-statistic = {stat_score_3hum_vs_5hum}, p-value = {p_score_3hum_vs_5hum}, Rank-Biserial = {r_score_3hum_vs_5hum}\")"
   ]
  },
  {
   "cell_type": "code",
   "execution_count": 12,
   "id": "f58be58f5bbf4ea6",
   "metadata": {
    "collapsed": false,
    "ExecuteTime": {
     "end_time": "2024-06-11T12:33:22.992122Z",
     "start_time": "2024-06-11T12:33:22.983846Z"
    }
   },
   "outputs": [
    {
     "name": "stdout",
     "output_type": "stream",
     "text": [
      "Items 5 humans vs 3 humans (5hum > 3hum): U-statistic = 4514.5, p-value = 0.981178157627451, Rank-Biserial = -0.16521819526627224\n",
      "Score 5 humans vs 3 humans (5hum > 3hum): U-statistic = 4434.0, p-value = 0.988252725707378, Rank-Biserial = -0.180103550295858\n"
     ]
    }
   ],
   "source": [
    "# Perform Mann-Whitney U test (alternative='greater') for the 'ItemsFound' column (5hum > 3hum)\n",
    "stat_items_5hum_vs_3hum, p_items_5hum_vs_3hum = mannwhitneyu(items_found_5hum, items_found_3hum, alternative='greater')\n",
    "r_items_5hum_vs_3hum = rank_biserial(items_found_5hum, items_found_3hum, alternative='greater')\n",
    "print(f\"Items 5 humans vs 3 humans (5hum > 3hum): U-statistic = {stat_items_5hum_vs_3hum}, p-value = {p_items_5hum_vs_3hum}, Rank-Biserial = {r_items_5hum_vs_3hum}\")\n",
    "\n",
    "# Perform Mann-Whitney U test (alternative='greater') for the 'Score' column (5hum > 3hum)\n",
    "stat_score_5hum_vs_3hum, p_score_5hum_vs_3hum = mannwhitneyu(score_5hum, score_3hum, alternative='greater')\n",
    "r_score_5hum_vs_3hum = rank_biserial(score_5hum, score_3hum, alternative='greater')\n",
    "print(f\"Score 5 humans vs 3 humans (5hum > 3hum): U-statistic = {stat_score_5hum_vs_3hum}, p-value = {p_score_5hum_vs_3hum}, Rank-Biserial = {r_score_5hum_vs_3hum}\")\n"
   ]
  },
  {
   "cell_type": "code",
   "outputs": [],
   "source": [],
   "metadata": {
    "collapsed": false
   },
   "id": "e4c3d6f77c937b6a"
  }
 ],
 "metadata": {
  "kernelspec": {
   "display_name": "Python 3 (ipykernel)",
   "language": "python",
   "name": "python3"
  },
  "language_info": {
   "codemirror_mode": {
    "name": "ipython",
    "version": 3
   },
   "file_extension": ".py",
   "mimetype": "text/x-python",
   "name": "python",
   "nbconvert_exporter": "python",
   "pygments_lexer": "ipython3",
   "version": "3.11.5"
  }
 },
 "nbformat": 4,
 "nbformat_minor": 5
}
