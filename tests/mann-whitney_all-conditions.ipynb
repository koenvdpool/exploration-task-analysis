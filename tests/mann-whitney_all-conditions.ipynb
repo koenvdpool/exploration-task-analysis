{
 "cells": [
  {
   "cell_type": "markdown",
   "id": "8ba27a7bef53883b",
   "metadata": {},
   "source": [
    "# Mann-Whitney U test: Compare Group Performance"
   ]
  },
  {
   "cell_type": "code",
   "execution_count": 20,
   "id": "initial_id",
   "metadata": {
    "tags": [],
    "ExecuteTime": {
     "end_time": "2024-06-16T19:44:55.552918Z",
     "start_time": "2024-06-16T19:44:55.546905Z"
    }
   },
   "outputs": [],
   "source": [
    "from scipy.stats import mannwhitneyu, shapiro\n",
    "import pandas as pd\n",
    "from scripts.utils import rank_biserial"
   ]
  },
  {
   "cell_type": "markdown",
   "id": "4655b1667636a341",
   "metadata": {},
   "source": [
    "## Compare: All"
   ]
  },
  {
   "cell_type": "code",
   "execution_count": 21,
   "id": "ab4cb4754ced23ae",
   "metadata": {
    "collapsed": false,
    "ExecuteTime": {
     "end_time": "2024-06-16T19:44:57.034965Z",
     "start_time": "2024-06-16T19:44:57.018739Z"
    }
   },
   "outputs": [],
   "source": [
    "# Read the CSV file\n",
    "df_6hum = pd.read_csv('../csv_data/nonsem_6hum.csv')\n",
    "df_6bots = pd.read_csv('../csv_data/6bots.csv')\n",
    "df_1bot_5hum = pd.read_csv('../csv_data/nonsem_1bot_5hum.csv')\n",
    "df_3bots_3hum = pd.read_csv('../csv_data/nonsem_3bots_3hum.csv')\n",
    "\n",
    "# Extract the 'ItemsFound' column\n",
    "items_found_6hum = df_6hum['ItemsFound']\n",
    "items_found_6bots = df_6bots['ItemsFound']\n",
    "items_found_1bot_5hum = df_1bot_5hum['ItemsFound']\n",
    "items_found_3bots_3hum = df_3bots_3hum['ItemsFound']\n",
    "\n",
    "#Extract the 'Score' column\n",
    "score_6hum = df_6hum['Score']\n",
    "score_6bots = df_6bots['Score']\n",
    "score_1bot_5hum = df_1bot_5hum['Score']\n",
    "score_3bots_3hum = df_3bots_3hum['Score']"
   ]
  },
  {
   "cell_type": "code",
   "outputs": [
    {
     "name": "stdout",
     "output_type": "stream",
     "text": [
      "P-value of Shapiro-Wilk test for 6hum (ItemsFound): 2.064731201263366e-12\n",
      "P-value of Shapiro-Wilk test for 6bots (ItemsFound): 1.607155298539195e-13\n",
      "P-value of Shapiro-Wilk test for 1b5h (ItemsFound): 0.00011544959914790341\n",
      "P-value of Shapiro-Wilk test for 3b3h (ItemsFound): 1.3964101444826274e-10\n",
      "\n",
      "\n",
      "P-value of Shapiro-Wilk test for 6hum (Scores): 3.884644752840973e-36\n",
      "P-value of Shapiro-Wilk test for 6bots (Scores): 1.2070404188865794e-33\n",
      "P-value of Shapiro-Wilk test for 1b5h (Scores): 1.707065247688503e-20\n",
      "P-value of Shapiro-Wilk test for 3b3h (Scores): 2.340710740333886e-21\n"
     ]
    }
   ],
   "source": [
    "# Check normality assumption: items found\n",
    "shapiro_items_found_6hum = shapiro(items_found_6hum)\n",
    "shapiro_items_found_6bots = shapiro(items_found_6bots)\n",
    "shapiro_items_found_1bot_5hum = shapiro(items_found_1bot_5hum)\n",
    "shapiro_items_found_3bot_3hum = shapiro(items_found_3bots_3hum)\n",
    "\n",
    "print(f\"P-value of Shapiro-Wilk test for 6hum (ItemsFound): {shapiro_items_found_6hum[1]}\")\n",
    "print(f\"P-value of Shapiro-Wilk test for 6bots (ItemsFound): {shapiro_items_found_6bots[1]}\")\n",
    "print(f\"P-value of Shapiro-Wilk test for 1b5h (ItemsFound): {shapiro_items_found_1bot_5hum[1]}\")\n",
    "print(f\"P-value of Shapiro-Wilk test for 3b3h (ItemsFound): {shapiro_items_found_3bot_3hum[1]}\")\n",
    "print(\"\\n\")\n",
    "\n",
    "# Check normality assumption: score\n",
    "shapiro_score_6hum = shapiro(score_6hum)\n",
    "shapiro_score_6bots = shapiro(score_6bots)\n",
    "shapiro_score_1bot_5hum = shapiro(score_1bot_5hum)\n",
    "shapiro_score_3bot_3hum = shapiro(score_3bots_3hum)\n",
    "\n",
    "print(f\"P-value of Shapiro-Wilk test for 6hum (Scores): {shapiro_score_6hum[1]}\")\n",
    "print(f\"P-value of Shapiro-Wilk test for 6bots (Scores): {shapiro_score_6bots[1]}\")\n",
    "print(f\"P-value of Shapiro-Wilk test for 1b5h (Scores): {shapiro_score_1bot_5hum[1]}\")\n",
    "print(f\"P-value of Shapiro-Wilk test for 3b3h (Scores): {shapiro_score_3bot_3hum[1]}\")"
   ],
   "metadata": {
    "collapsed": false,
    "ExecuteTime": {
     "end_time": "2024-06-15T21:07:39.623313Z",
     "start_time": "2024-06-15T21:07:39.619104Z"
    }
   },
   "id": "67e3f57408126b30",
   "execution_count": 12
  },
  {
   "cell_type": "markdown",
   "id": "75187076b58c9590",
   "metadata": {},
   "source": [
    "#### Compare: 6 bots vs 6 humans (Preliminary Study)"
   ]
  },
  {
   "cell_type": "code",
   "execution_count": 13,
   "id": "952c4ec7681adc4b",
   "metadata": {
    "collapsed": false,
    "ExecuteTime": {
     "end_time": "2024-06-15T21:07:40.611106Z",
     "start_time": "2024-06-15T21:07:40.605836Z"
    }
   },
   "outputs": [
    {
     "name": "stdout",
     "output_type": "stream",
     "text": [
      "Items 6 bots vs 6 humans: U-statistic = 108218.5, p-value = 3.7544720164112874e-14, Rank-Biserial = 0.3002030469050365\n",
      "Score 6 bots vs 6 humans: U-statistic = 109807.0, p-value = 9.668901554336394e-16, Rank-Biserial = 0.3192882545174933\n"
     ]
    }
   ],
   "source": [
    "# Perform Mann-Whitney U test (alternative='greater') for the 'ItemsFound' column\n",
    "stat_items_6bots_vs_6hum, p_items_6bots_vs_6hum = mannwhitneyu(items_found_6bots, items_found_6hum, alternative='greater')\n",
    "r_items_6bots_vs_6hum = rank_biserial(items_found_6bots, items_found_6hum, alternative='greater')\n",
    "print(f\"Items 6 bots vs 6 humans: U-statistic = {stat_items_6bots_vs_6hum}, p-value = {p_items_6bots_vs_6hum}, Rank-Biserial = {r_items_6bots_vs_6hum}\")\n",
    "\n",
    "# Perform Mann-Whitney U test (alternative='greater') for the 'Score' column\n",
    "stat_score_6bots_vs_6hum, p_score_6bots_vs_6hum = mannwhitneyu(score_6bots, score_6hum, alternative='greater')\n",
    "r_score_6bots_vs_6hum = rank_biserial(score_6bots, score_6hum, alternative='greater')\n",
    "print(f\"Score 6 bots vs 6 humans: U-statistic = {stat_score_6bots_vs_6hum}, p-value = {p_score_6bots_vs_6hum}, Rank-Biserial = {r_score_6bots_vs_6hum}\")"
   ]
  },
  {
   "cell_type": "markdown",
   "id": "c89f4666a709f6f3",
   "metadata": {},
   "source": [
    "#### Compare: 3 bots, 3 humans vs 6 humans"
   ]
  },
  {
   "cell_type": "code",
   "execution_count": 14,
   "id": "97eaab18b1dd6e8d",
   "metadata": {
    "collapsed": false,
    "ExecuteTime": {
     "end_time": "2024-06-15T21:07:41.310032Z",
     "start_time": "2024-06-15T21:07:41.305237Z"
    }
   },
   "outputs": [
    {
     "name": "stdout",
     "output_type": "stream",
     "text": [
      "Items 3 bots, 3 humans vs 6 humans: U-statistic = 58383.5, p-value = 2.303272931313881e-13, Rank-Biserial = 0.34996994080651134\n",
      "Score 3 bots, 3 humans vs 6 humans: U-statistic = 59418.0, p-value = 5.7460015459563286e-15, Rank-Biserial = 0.37389012208657046\n"
     ]
    }
   ],
   "source": [
    "# Perform Mann-Whitney U test (alternative='greater') for the 'ItemsFound' column\n",
    "stat_items_3bots_3hum_vs_6hum, p_items_3bots_3hum_vs_6hum = mannwhitneyu(items_found_3bots_3hum, items_found_6hum, alternative='greater')\n",
    "r_items_3bots_3hum_vs_6hum = rank_biserial(items_found_3bots_3hum, items_found_6hum, alternative='greater')\n",
    "print(f\"Items 3 bots, 3 humans vs 6 humans: U-statistic = {stat_items_3bots_3hum_vs_6hum}, p-value = {p_items_3bots_3hum_vs_6hum}, Rank-Biserial = {r_items_3bots_3hum_vs_6hum}\")\n",
    "\n",
    "# Perform Mann-Whitney U test (alternative='greater') for the 'Score' column\n",
    "stat_score_3bots_3hum_vs_6hum, p_score_3bots_3hum_vs_6hum = mannwhitneyu(score_3bots_3hum, score_6hum, alternative='greater')\n",
    "r_score_3bots_3hum_vs_6hum = rank_biserial(score_3bots_3hum, score_6hum, alternative='greater')\n",
    "print(f\"Score 3 bots, 3 humans vs 6 humans: U-statistic = {stat_score_3bots_3hum_vs_6hum}, p-value = {p_score_3bots_3hum_vs_6hum}, Rank-Biserial = {r_score_3bots_3hum_vs_6hum}\")"
   ]
  },
  {
   "cell_type": "markdown",
   "id": "4f8f079690398d04",
   "metadata": {},
   "source": [
    "#### Compare: 3 bots, 3 humans vs 6 bots"
   ]
  },
  {
   "cell_type": "code",
   "outputs": [
    {
     "name": "stdout",
     "output_type": "stream",
     "text": [
      "Items 6 bots vs 3 bots, 3 humans: U-statistic = 36764.5, p-value = 0.9990481863023576, Rank-Biserial = -0.14991444691083977\n",
      "Score 6 bots vs 3 bots, 3 humans: U-statistic = 36889.5, p-value = 0.9988061706309225, Rank-Biserial = -0.14702413984461704\n"
     ]
    }
   ],
   "source": [
    "# Perform Mann-Whitney U test (alternative='greater') for the 'ItemsFound' column\n",
    "stat_items_6bots_vs_3bots_3hum, p_items_6bots_vs_3bots_3hum = mannwhitneyu(items_found_6bots, items_found_3bots_3hum, alternative='greater')\n",
    "r_items_6bots_vs_3bots_3hum = rank_biserial(items_found_6bots, items_found_3bots_3hum, alternative='greater')\n",
    "print(f\"Items 6 bots vs 3 bots, 3 humans: U-statistic = {stat_items_6bots_vs_3bots_3hum}, p-value = {p_items_6bots_vs_3bots_3hum}, Rank-Biserial = {r_items_6bots_vs_3bots_3hum}\")\n",
    "\n",
    "# Perform Mann-Whitney U test (alternative='greater') for the 'Score' column\n",
    "stat_score_6bots_vs_3bots_3hum, p_score_6bots_vs_3bots_3hum = mannwhitneyu(score_6bots, score_3bots_3hum, alternative='greater')\n",
    "r_score_6bots_vs_3bots_3hum = rank_biserial(score_6bots, score_3bots_3hum, alternative='greater')\n",
    "print(f\"Score 6 bots vs 3 bots, 3 humans: U-statistic = {stat_score_6bots_vs_3bots_3hum}, p-value = {p_score_6bots_vs_3bots_3hum}, Rank-Biserial = {r_score_6bots_vs_3bots_3hum}\")\n"
   ],
   "metadata": {
    "collapsed": false,
    "ExecuteTime": {
     "end_time": "2024-06-15T21:07:42.276306Z",
     "start_time": "2024-06-15T21:07:42.271294Z"
    }
   },
   "id": "9172153e6e38640a",
   "execution_count": 15
  },
  {
   "cell_type": "markdown",
   "source": [
    "##### Compare: 3 bots, 3 humans vs 6 bots (secondary analysis)\n"
   ],
   "metadata": {
    "collapsed": false
   },
   "id": "c85358f69bdaa6c7"
  },
  {
   "cell_type": "code",
   "outputs": [
    {
     "name": "stdout",
     "output_type": "stream",
     "text": [
      "Items 3 bots, 3 humans vs 6 bots: U-statistic = 49731.5, p-value = 0.0009533557062600396, Rank-Biserial = 0.14991444691083977\n",
      "Score 3 bots, 3 humans vs 6 bots: U-statistic = 49606.5, p-value = 0.0011957225208056297, Rank-Biserial = 0.14702413984461704\n"
     ]
    }
   ],
   "source": [
    "# Perform Mann-Whitney U test (alternative='greater') for the 'ItemsFound' column\n",
    "stat_items_3bots_3hum_vs_6bots, p_items_3bots_3hum_vs_6bots = mannwhitneyu(items_found_3bots_3hum, items_found_6bots, alternative='greater')\n",
    "r_items_3bots_3hum_vs_6bots = rank_biserial(items_found_3bots_3hum, items_found_6bots, alternative='greater')\n",
    "print(f\"Items 3 bots, 3 humans vs 6 bots: U-statistic = {stat_items_3bots_3hum_vs_6bots}, p-value = {p_items_3bots_3hum_vs_6bots}, Rank-Biserial = {r_items_3bots_3hum_vs_6bots}\")\n",
    "\n",
    "# Perform Mann-Whitney U test (alternative='greater') for the 'Score' column\n",
    "stat_score_3bots_3hum_vs_6bots, p_score_3bots_3hum_vs_6bots = mannwhitneyu(score_3bots_3hum, score_6bots, alternative='greater')\n",
    "r_score_3bots_3hum_vs_6bots = rank_biserial(score_3bots_3hum, score_6bots, alternative='greater')\n",
    "print(f\"Score 3 bots, 3 humans vs 6 bots: U-statistic = {stat_score_3bots_3hum_vs_6bots}, p-value = {p_score_3bots_3hum_vs_6bots}, Rank-Biserial = {r_score_3bots_3hum_vs_6bots}\")"
   ],
   "metadata": {
    "collapsed": false,
    "ExecuteTime": {
     "end_time": "2024-06-15T21:07:43.186402Z",
     "start_time": "2024-06-15T21:07:43.182320Z"
    }
   },
   "id": "5e34cecd6752817",
   "execution_count": 16
  },
  {
   "cell_type": "markdown",
   "id": "b6e8c8161d829551",
   "metadata": {},
   "source": [
    "#### Compare: 1 bot, 5 humans vs 6 humans"
   ]
  },
  {
   "cell_type": "code",
   "execution_count": 17,
   "id": "5f80388a443dc47",
   "metadata": {
    "collapsed": false,
    "ExecuteTime": {
     "end_time": "2024-06-15T21:07:44.231514Z",
     "start_time": "2024-06-15T21:07:44.225354Z"
    }
   },
   "outputs": [
    {
     "name": "stdout",
     "output_type": "stream",
     "text": [
      "Items 1 bot, 5 humans vs 6 humans: U-statistic = 27380.0, p-value = 0.10418394988284796, Rank-Biserial = 0.07372549019607844\n",
      "Score 1 bot, 5 humans vs 6 humans: U-statistic = 27507.5, p-value = 0.08967589441768631, Rank-Biserial = 0.07872549019607833\n"
     ]
    }
   ],
   "source": [
    "# Perform Mann-Whitney U test (alternative='greater') for the 'ItemsFound' column\n",
    "stat_items_1bot_5hum_vs_6hum, p_items_1bot_5hum_vs_6hum = mannwhitneyu(items_found_1bot_5hum, items_found_6hum, alternative='greater')\n",
    "r_items_1bot_5hum_vs_6hum = rank_biserial(items_found_1bot_5hum, items_found_6hum, alternative='greater')\n",
    "print(f\"Items 1 bot, 5 humans vs 6 humans: U-statistic = {stat_items_1bot_5hum_vs_6hum}, p-value = {p_items_1bot_5hum_vs_6hum}, Rank-Biserial = {r_items_1bot_5hum_vs_6hum}\")\n",
    "\n",
    "# Perform Mann-Whitney U test (alternative='greater') for the 'Score' column\n",
    "stat_score_1bot_5hum_vs_6hum, p_score_1bot_5hum_vs_6hum = mannwhitneyu(score_1bot_5hum, score_6hum, alternative='greater')\n",
    "r_score_1bot_5hum_vs_6hum = rank_biserial(score_1bot_5hum, score_6hum, alternative='greater')\n",
    "print(f\"Score 1 bot, 5 humans vs 6 humans: U-statistic = {stat_score_1bot_5hum_vs_6hum}, p-value = {p_score_1bot_5hum_vs_6hum}, Rank-Biserial = {r_score_1bot_5hum_vs_6hum}\")"
   ]
  },
  {
   "cell_type": "markdown",
   "id": "5dafaa24b2610b5f",
   "metadata": {},
   "source": [
    "#### Compare: 1 bot, 5 humans vs 6 bots"
   ]
  },
  {
   "cell_type": "code",
   "outputs": [
    {
     "name": "stdout",
     "output_type": "stream",
     "text": [
      "Items 6 bots vs 1 bot, 5 humans: U-statistic = 31548.0, p-value = 2.464962449035513e-05, Rank-Biserial = 0.23717647058823532\n",
      "Score 6 bots vs 1 bot, 5 humans: U-statistic = 31749.5, p-value = 1.410956335957599e-05, Rank-Biserial = 0.24507843137254892\n"
     ]
    }
   ],
   "source": [
    "# Perform Mann-Whitney U test (alternative='greater') for the 'ItemsFound' column\n",
    "stat_items_6bots_vs_1bot_5hum, p_items_6bots_vs_1bot_5hum = mannwhitneyu(items_found_6bots, items_found_1bot_5hum, alternative='greater')\n",
    "r_items_6bots_vs_1bot_5hum = rank_biserial(items_found_6bots, items_found_1bot_5hum, alternative='greater')\n",
    "print(f\"Items 6 bots vs 1 bot, 5 humans: U-statistic = {stat_items_6bots_vs_1bot_5hum}, p-value = {p_items_6bots_vs_1bot_5hum}, Rank-Biserial = {r_items_6bots_vs_1bot_5hum}\")\n",
    "\n",
    "# Perform Mann-Whitney U test (alternative='greater') for the 'Score' column\n",
    "stat_score_6bots_vs_1bot_5hum, p_score_6bots_vs_1bot_5hum = mannwhitneyu(score_6bots, score_1bot_5hum, alternative='greater')\n",
    "r_score_6bots_vs_1bot_5hum = rank_biserial(score_6bots, score_1bot_5hum, alternative='greater')\n",
    "print(f\"Score 6 bots vs 1 bot, 5 humans: U-statistic = {stat_score_6bots_vs_1bot_5hum}, p-value = {p_score_6bots_vs_1bot_5hum}, Rank-Biserial = {r_score_6bots_vs_1bot_5hum}\")\n"
   ],
   "metadata": {
    "collapsed": false,
    "ExecuteTime": {
     "end_time": "2024-06-15T21:07:45.458263Z",
     "start_time": "2024-06-15T21:07:45.454561Z"
    }
   },
   "id": "ab4fb68f6ab59945",
   "execution_count": 18
  },
  {
   "cell_type": "markdown",
   "id": "d89cf42bea0da2f",
   "metadata": {},
   "source": [
    "#### Compare: 3 bots, 3 humans vs 1 bot, 5 humans"
   ]
  },
  {
   "cell_type": "code",
   "execution_count": 19,
   "id": "3c25de1a5e9bb109",
   "metadata": {
    "collapsed": false,
    "ExecuteTime": {
     "end_time": "2024-06-15T21:07:46.861968Z",
     "start_time": "2024-06-15T21:07:46.856427Z"
    }
   },
   "outputs": [
    {
     "name": "stdout",
     "output_type": "stream",
     "text": [
      "Items 3 bots, 3 humans vs 1 bot, 5 humans: U-statistic = 16886.5, p-value = 9.302451612574043e-06, Rank-Biserial = 0.2744528301886793\n",
      "Score 3 bots, 3 humans vs 1 bot, 5 humans: U-statistic = 17034.5, p-value = 4.3489311178726575e-06, Rank-Biserial = 0.28562264150943406\n"
     ]
    }
   ],
   "source": [
    "# Perform Mann-Whitney U test (alternative='greater') for the 'ItemsFound' column\n",
    "stat_items_3bots_3hum_vs_1bot_5hum, p_items_3bots_3hum_vs_1bot_5hum = mannwhitneyu(items_found_3bots_3hum, items_found_1bot_5hum, alternative='greater')\n",
    "r_items_3bots_3hum_vs_1bot_5hum = rank_biserial(items_found_3bots_3hum, items_found_1bot_5hum, alternative='greater')\n",
    "print(f\"Items 3 bots, 3 humans vs 1 bot, 5 humans: U-statistic = {stat_items_3bots_3hum_vs_1bot_5hum}, p-value = {p_items_3bots_3hum_vs_1bot_5hum}, Rank-Biserial = {r_items_3bots_3hum_vs_1bot_5hum}\")\n",
    "\n",
    "# Perform Mann-Whitney U test (alternative='greater') for the 'Score' column\n",
    "stat_score_3bots_3hum_vs_1bot_5hum, p_score_3bots_3hum_vs_1bot_5hum = mannwhitneyu(score_3bots_3hum, score_1bot_5hum, alternative='greater')\n",
    "r_score_3bots_3hum_vs_1bot_5hum = rank_biserial(score_3bots_3hum, score_1bot_5hum, alternative='greater')\n",
    "print(f\"Score 3 bots, 3 humans vs 1 bot, 5 humans: U-statistic = {stat_score_3bots_3hum_vs_1bot_5hum}, p-value = {p_score_3bots_3hum_vs_1bot_5hum}, Rank-Biserial = {r_score_3bots_3hum_vs_1bot_5hum}\")"
   ]
  },
  {
   "cell_type": "code",
   "outputs": [],
   "source": [],
   "metadata": {
    "collapsed": false
   },
   "id": "5a8c2f5e5f007abf"
  }
 ],
 "metadata": {
  "kernelspec": {
   "display_name": "Python 3 (ipykernel)",
   "language": "python",
   "name": "python3"
  },
  "language_info": {
   "codemirror_mode": {
    "name": "ipython",
    "version": 3
   },
   "file_extension": ".py",
   "mimetype": "text/x-python",
   "name": "python",
   "nbconvert_exporter": "python",
   "pygments_lexer": "ipython3",
   "version": "3.11.5"
  }
 },
 "nbformat": 4,
 "nbformat_minor": 5
}
