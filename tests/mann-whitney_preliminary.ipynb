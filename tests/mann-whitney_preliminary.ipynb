{
 "cells": [
  {
   "cell_type": "markdown",
   "id": "8ba27a7bef53883b",
   "metadata": {},
   "source": [
    "# Mann-Whitney U test: Compare Group Performance"
   ]
  },
  {
   "cell_type": "code",
   "execution_count": 44,
   "id": "initial_id",
   "metadata": {
    "tags": [],
    "ExecuteTime": {
     "end_time": "2024-06-11T15:01:50.622568Z",
     "start_time": "2024-06-11T15:01:50.612445Z"
    }
   },
   "outputs": [],
   "source": [
    "from scipy.stats import mannwhitneyu\n",
    "import pandas as pd\n",
    "from scripts.utils import rank_biserial"
   ]
  },
  {
   "cell_type": "markdown",
   "id": "4655b1667636a341",
   "metadata": {},
   "source": [
    "## Compare: All"
   ]
  },
  {
   "cell_type": "code",
   "execution_count": 45,
   "id": "ab4cb4754ced23ae",
   "metadata": {
    "collapsed": false,
    "ExecuteTime": {
     "end_time": "2024-06-11T15:01:50.928283Z",
     "start_time": "2024-06-11T15:01:50.917052Z"
    }
   },
   "outputs": [],
   "source": [
    "# Read the CSV file\n",
    "df_6hum = pd.read_csv('../csv_data/nonsem_6hum.csv')\n",
    "df_6bots = pd.read_csv('../csv_data/6bots.csv')\n",
    "df_1bot_5hum = pd.read_csv('../csv_data/nonsem_1bot_5hum.csv')\n",
    "df_3bots_3hum = pd.read_csv('../csv_data/nonsem_3bots_3hum.csv')\n",
    "\n",
    "# Extract the 'ItemsFound' column\n",
    "items_found_6hum = df_6hum['ItemsFound']\n",
    "items_found_6bots = df_6bots['ItemsFound']\n",
    "items_found_1bot_5hum = df_1bot_5hum['ItemsFound']\n",
    "items_found_3bots_3hum = df_3bots_3hum['ItemsFound']\n",
    "\n",
    "#Extract the 'Score' column\n",
    "score_6hum = df_6hum['Score']\n",
    "score_6bots = df_6bots['Score']\n",
    "score_1bot_5hum = df_1bot_5hum['Score']\n",
    "score_3bots_3hum = df_3bots_3hum['Score']"
   ]
  },
  {
   "cell_type": "markdown",
   "id": "75187076b58c9590",
   "metadata": {},
   "source": [
    "#### Compare: 6 bots vs 6 humans (Preliminary Study)"
   ]
  },
  {
   "cell_type": "code",
   "execution_count": 46,
   "id": "952c4ec7681adc4b",
   "metadata": {
    "collapsed": false,
    "ExecuteTime": {
     "end_time": "2024-06-11T15:01:51.264586Z",
     "start_time": "2024-06-11T15:01:51.256451Z"
    }
   },
   "outputs": [
    {
     "name": "stdout",
     "output_type": "stream",
     "text": [
      "Items 6 bots vs 6 humans: U-statistic = 108218.5, p-value = 3.7544720164112874e-14, Rank-Biserial = 0.3002030469050365\n",
      "Score 6 bots vs 6 humans: U-statistic = 109807.0, p-value = 9.668901554336394e-16, Rank-Biserial = 0.3192882545174933\n"
     ]
    }
   ],
   "source": [
    "# Perform Mann-Whitney U test (alternative='greater') for the 'ItemsFound' column\n",
    "stat_items_6bots_vs_6hum, p_items_6bots_vs_6hum = mannwhitneyu(items_found_6bots, items_found_6hum, alternative='greater')\n",
    "r_items_6bots_vs_6hum = rank_biserial(items_found_6bots, items_found_6hum, alternative='greater')\n",
    "print(f\"Items 6 bots vs 6 humans: U-statistic = {stat_items_6bots_vs_6hum}, p-value = {p_items_6bots_vs_6hum}, Rank-Biserial = {r_items_6bots_vs_6hum}\")\n",
    "\n",
    "# Perform Mann-Whitney U test (alternative='greater') for the 'Score' column\n",
    "stat_score_6bots_vs_6hum, p_score_6bots_vs_6hum = mannwhitneyu(score_6bots, score_6hum, alternative='greater')\n",
    "r_score_6bots_vs_6hum = rank_biserial(score_6bots, score_6hum, alternative='greater')\n",
    "print(f\"Score 6 bots vs 6 humans: U-statistic = {stat_score_6bots_vs_6hum}, p-value = {p_score_6bots_vs_6hum}, Rank-Biserial = {r_score_6bots_vs_6hum}\")"
   ]
  },
  {
   "cell_type": "code",
   "outputs": [
    {
     "name": "stdout",
     "output_type": "stream",
     "text": [
      "Items 6 humans vs 6 bots: U-statistic = 58245.5, p-value = 0.9999999999999626, Rank-Biserial = -0.3002030469050365\n",
      "Score 6 humans vs 6 bots: U-statistic = 56657.0, p-value = 0.999999999999999, Rank-Biserial = -0.3192882545174933\n"
     ]
    }
   ],
   "source": [
    "# Perform Mann-Whitney U test (alternative='greater') for the 'ItemsFound' column\n",
    "stat_items_6hum_vs_6bots, p_items_6hum_vs_6bots = mannwhitneyu(items_found_6hum, items_found_6bots, alternative='greater')\n",
    "r_items_6hum_vs_6bots = rank_biserial(items_found_6hum, items_found_6bots, alternative='greater')\n",
    "print(f\"Items 6 humans vs 6 bots: U-statistic = {stat_items_6hum_vs_6bots}, p-value = {p_items_6hum_vs_6bots}, Rank-Biserial = {r_items_6hum_vs_6bots}\")\n",
    "\n",
    "# Perform Mann-Whitney U test (alternative='greater') for the 'Score' column\n",
    "stat_score_6hum_vs_6bots, p_score_6hum_vs_6bots = mannwhitneyu(score_6hum, score_6bots, alternative='greater')\n",
    "r_score_6hum_vs_6bots = rank_biserial(score_6hum, score_6bots, alternative='greater')\n",
    "print(f\"Score 6 humans vs 6 bots: U-statistic = {stat_score_6hum_vs_6bots}, p-value = {p_score_6hum_vs_6bots}, Rank-Biserial = {r_score_6hum_vs_6bots}\")\n"
   ],
   "metadata": {
    "collapsed": false,
    "ExecuteTime": {
     "end_time": "2024-06-11T15:01:51.768085Z",
     "start_time": "2024-06-11T15:01:51.763630Z"
    }
   },
   "id": "f80ab6951826a2fe",
   "execution_count": 47
  },
  {
   "cell_type": "markdown",
   "id": "c89f4666a709f6f3",
   "metadata": {},
   "source": [
    "#### Compare: 3 bots, 3 humans vs 6 humans"
   ]
  },
  {
   "cell_type": "code",
   "execution_count": 48,
   "id": "97eaab18b1dd6e8d",
   "metadata": {
    "collapsed": false,
    "ExecuteTime": {
     "end_time": "2024-06-11T15:01:52.342915Z",
     "start_time": "2024-06-11T15:01:52.337870Z"
    }
   },
   "outputs": [
    {
     "name": "stdout",
     "output_type": "stream",
     "text": [
      "Items 3 bots, 3 humans vs 6 humans: U-statistic = 58383.5, p-value = 2.303272931313881e-13, Rank-Biserial = 0.34996994080651134\n",
      "Score 3 bots, 3 humans vs 6 humans: U-statistic = 59418.0, p-value = 5.7460015459563286e-15, Rank-Biserial = 0.37389012208657046\n"
     ]
    }
   ],
   "source": [
    "# Perform Mann-Whitney U test (alternative='greater') for the 'ItemsFound' column\n",
    "stat_items_3bots_3hum_vs_6hum, p_items_3bots_3hum_vs_6hum = mannwhitneyu(items_found_3bots_3hum, items_found_6hum, alternative='greater')\n",
    "r_items_3bots_3hum_vs_6hum = rank_biserial(items_found_3bots_3hum, items_found_6hum, alternative='greater')\n",
    "print(f\"Items 3 bots, 3 humans vs 6 humans: U-statistic = {stat_items_3bots_3hum_vs_6hum}, p-value = {p_items_3bots_3hum_vs_6hum}, Rank-Biserial = {r_items_3bots_3hum_vs_6hum}\")\n",
    "\n",
    "# Perform Mann-Whitney U test (alternative='greater') for the 'Score' column\n",
    "stat_score_3bots_3hum_vs_6hum, p_score_3bots_3hum_vs_6hum = mannwhitneyu(score_3bots_3hum, score_6hum, alternative='greater')\n",
    "r_score_3bots_3hum_vs_6hum = rank_biserial(score_3bots_3hum, score_6hum, alternative='greater')\n",
    "print(f\"Score 3 bots, 3 humans vs 6 humans: U-statistic = {stat_score_3bots_3hum_vs_6hum}, p-value = {p_score_3bots_3hum_vs_6hum}, Rank-Biserial = {r_score_3bots_3hum_vs_6hum}\")"
   ]
  },
  {
   "cell_type": "code",
   "outputs": [
    {
     "name": "stdout",
     "output_type": "stream",
     "text": [
      "Items 6 humans vs 3 bots, 3 humans: U-statistic = 28112.5, p-value = 0.9999999999997705, Rank-Biserial = -0.34996994080651134\n",
      "Score 6 humans vs 3 bots, 3 humans: U-statistic = 27078.0, p-value = 0.9999999999999942, Rank-Biserial = -0.37389012208657046\n"
     ]
    }
   ],
   "source": [
    "# Perform Mann-Whitney U test (alternative='greater') for the 'ItemsFound' column\n",
    "stat_items_6hum_vs_3bots_3hum, p_items_6hum_vs_3bots_3hum = mannwhitneyu(items_found_6hum, items_found_3bots_3hum, alternative='greater')\n",
    "r_items_6hum_vs_3bots_3hum = rank_biserial(items_found_6hum, items_found_3bots_3hum, alternative='greater')\n",
    "print(f\"Items 6 humans vs 3 bots, 3 humans: U-statistic = {stat_items_6hum_vs_3bots_3hum}, p-value = {p_items_6hum_vs_3bots_3hum}, Rank-Biserial = {r_items_6hum_vs_3bots_3hum}\")\n",
    "\n",
    "# Perform Mann-Whitney U test (alternative='greater') for the 'Score' column\n",
    "stat_score_6hum_vs_3bots_3hum, p_score_6hum_vs_3bots_3hum = mannwhitneyu(score_6hum, score_3bots_3hum, alternative='greater')\n",
    "r_score_6hum_vs_3bots_3hum = rank_biserial(score_6hum, score_3bots_3hum, alternative='greater')\n",
    "print(f\"Score 6 humans vs 3 bots, 3 humans: U-statistic = {stat_score_6hum_vs_3bots_3hum}, p-value = {p_score_6hum_vs_3bots_3hum}, Rank-Biserial = {r_score_6hum_vs_3bots_3hum}\")\n"
   ],
   "metadata": {
    "collapsed": false,
    "ExecuteTime": {
     "end_time": "2024-06-11T15:01:52.514044Z",
     "start_time": "2024-06-11T15:01:52.508031Z"
    }
   },
   "id": "2ecc909037336eaf",
   "execution_count": 49
  },
  {
   "cell_type": "markdown",
   "id": "4f8f079690398d04",
   "metadata": {},
   "source": [
    "#### Compare: 3 bots, 3 humans vs 6 bots"
   ]
  },
  {
   "cell_type": "code",
   "execution_count": 50,
   "id": "5e34cecd6752817",
   "metadata": {
    "collapsed": false,
    "ExecuteTime": {
     "end_time": "2024-06-11T15:01:53.109531Z",
     "start_time": "2024-06-11T15:01:53.096097Z"
    }
   },
   "outputs": [
    {
     "name": "stdout",
     "output_type": "stream",
     "text": [
      "Items 3 bots, 3 humans vs 6 bots: U-statistic = 49731.5, p-value = 0.0009533557062600396, Rank-Biserial = 0.14991444691083977\n",
      "Score 3 bots, 3 humans vs 6 bots: U-statistic = 49606.5, p-value = 0.0011957225208056297, Rank-Biserial = 0.14702413984461704\n"
     ]
    }
   ],
   "source": [
    "# Perform Mann-Whitney U test (alternative='greater') for the 'ItemsFound' column\n",
    "stat_items_3bots_3hum_vs_6bots, p_items_3bots_3hum_vs_6bots = mannwhitneyu(items_found_3bots_3hum, items_found_6bots, alternative='greater')\n",
    "r_items_3bots_3hum_vs_6bots = rank_biserial(items_found_3bots_3hum, items_found_6bots, alternative='greater')\n",
    "print(f\"Items 3 bots, 3 humans vs 6 bots: U-statistic = {stat_items_3bots_3hum_vs_6bots}, p-value = {p_items_3bots_3hum_vs_6bots}, Rank-Biserial = {r_items_3bots_3hum_vs_6bots}\")\n",
    "\n",
    "# Perform Mann-Whitney U test (alternative='greater') for the 'Score' column\n",
    "stat_score_3bots_3hum_vs_6bots, p_score_3bots_3hum_vs_6bots = mannwhitneyu(score_3bots_3hum, score_6bots, alternative='greater')\n",
    "r_score_3bots_3hum_vs_6bots = rank_biserial(score_3bots_3hum, score_6bots, alternative='greater')\n",
    "print(f\"Score 3 bots, 3 humans vs 6 bots: U-statistic = {stat_score_3bots_3hum_vs_6bots}, p-value = {p_score_3bots_3hum_vs_6bots}, Rank-Biserial = {r_score_3bots_3hum_vs_6bots}\")"
   ]
  },
  {
   "cell_type": "code",
   "outputs": [
    {
     "name": "stdout",
     "output_type": "stream",
     "text": [
      "Items 6 bots vs 3 bots, 3 humans: U-statistic = 36764.5, p-value = 0.9990481863023576, Rank-Biserial = -0.14991444691083977\n",
      "Score 6 bots vs 3 bots, 3 humans: U-statistic = 36889.5, p-value = 0.9988061706309225, Rank-Biserial = -0.14702413984461704\n"
     ]
    }
   ],
   "source": [
    "# Perform Mann-Whitney U test (alternative='greater') for the 'ItemsFound' column\n",
    "stat_items_6bots_vs_3bots_3hum, p_items_6bots_vs_3bots_3hum = mannwhitneyu(items_found_6bots, items_found_3bots_3hum, alternative='greater')\n",
    "r_items_6bots_vs_3bots_3hum = rank_biserial(items_found_6bots, items_found_3bots_3hum, alternative='greater')\n",
    "print(f\"Items 6 bots vs 3 bots, 3 humans: U-statistic = {stat_items_6bots_vs_3bots_3hum}, p-value = {p_items_6bots_vs_3bots_3hum}, Rank-Biserial = {r_items_6bots_vs_3bots_3hum}\")\n",
    "\n",
    "# Perform Mann-Whitney U test (alternative='greater') for the 'Score' column\n",
    "stat_score_6bots_vs_3bots_3hum, p_score_6bots_vs_3bots_3hum = mannwhitneyu(score_6bots, score_3bots_3hum, alternative='greater')\n",
    "r_score_6bots_vs_3bots_3hum = rank_biserial(score_6bots, score_3bots_3hum, alternative='greater')\n",
    "print(f\"Score 6 bots vs 3 bots, 3 humans: U-statistic = {stat_score_6bots_vs_3bots_3hum}, p-value = {p_score_6bots_vs_3bots_3hum}, Rank-Biserial = {r_score_6bots_vs_3bots_3hum}\")\n"
   ],
   "metadata": {
    "collapsed": false,
    "ExecuteTime": {
     "end_time": "2024-06-11T15:01:53.587904Z",
     "start_time": "2024-06-11T15:01:53.580787Z"
    }
   },
   "id": "9172153e6e38640a",
   "execution_count": 51
  },
  {
   "cell_type": "markdown",
   "id": "b6e8c8161d829551",
   "metadata": {},
   "source": [
    "#### Compare: 1 bot, 5 humans vs 6 humans"
   ]
  },
  {
   "cell_type": "code",
   "execution_count": 52,
   "id": "5f80388a443dc47",
   "metadata": {
    "collapsed": false,
    "ExecuteTime": {
     "end_time": "2024-06-11T15:01:54.505529Z",
     "start_time": "2024-06-11T15:01:54.499906Z"
    }
   },
   "outputs": [
    {
     "name": "stdout",
     "output_type": "stream",
     "text": [
      "Items 1 bot, 5 humans vs 6 humans: U-statistic = 27380.0, p-value = 0.10418394988284796, Rank-Biserial = 0.07372549019607844\n",
      "Score 1 bot, 5 humans vs 6 humans: U-statistic = 27507.5, p-value = 0.08967589441768631, Rank-Biserial = 0.07872549019607833\n"
     ]
    }
   ],
   "source": [
    "# Perform Mann-Whitney U test (alternative='greater') for the 'ItemsFound' column\n",
    "stat_items_1bot_5hum_vs_6hum, p_items_1bot_5hum_vs_6hum = mannwhitneyu(items_found_1bot_5hum, items_found_6hum, alternative='greater')\n",
    "r_items_1bot_5hum_vs_6hum = rank_biserial(items_found_1bot_5hum, items_found_6hum, alternative='greater')\n",
    "print(f\"Items 1 bot, 5 humans vs 6 humans: U-statistic = {stat_items_1bot_5hum_vs_6hum}, p-value = {p_items_1bot_5hum_vs_6hum}, Rank-Biserial = {r_items_1bot_5hum_vs_6hum}\")\n",
    "\n",
    "# Perform Mann-Whitney U test (alternative='greater') for the 'Score' column\n",
    "stat_score_1bot_5hum_vs_6hum, p_score_1bot_5hum_vs_6hum = mannwhitneyu(score_1bot_5hum, score_6hum, alternative='greater')\n",
    "r_score_1bot_5hum_vs_6hum = rank_biserial(score_1bot_5hum, score_6hum, alternative='greater')\n",
    "print(f\"Score 1 bot, 5 humans vs 6 humans: U-statistic = {stat_score_1bot_5hum_vs_6hum}, p-value = {p_score_1bot_5hum_vs_6hum}, Rank-Biserial = {r_score_1bot_5hum_vs_6hum}\")"
   ]
  },
  {
   "cell_type": "code",
   "outputs": [
    {
     "name": "stdout",
     "output_type": "stream",
     "text": [
      "Items 6 humans vs 1 bot, 5 humans: U-statistic = 23620.0, p-value = 0.8959370271203818, Rank-Biserial = -0.07372549019607844\n",
      "Score 6 humans vs 1 bot, 5 humans: U-statistic = 23492.5, p-value = 0.9104324110139465, Rank-Biserial = -0.07872549019607844\n"
     ]
    }
   ],
   "source": [
    "# Perform Mann-Whitney U test (alternative='greater') for the 'ItemsFound' column\n",
    "stat_items_6hum_vs_1bot_5hum, p_items_6hum_vs_1bot_5hum = mannwhitneyu(items_found_6hum, items_found_1bot_5hum, alternative='greater')\n",
    "r_items_6hum_vs_1bot_5hum = rank_biserial(items_found_6hum, items_found_1bot_5hum, alternative='greater')\n",
    "print(f\"Items 6 humans vs 1 bot, 5 humans: U-statistic = {stat_items_6hum_vs_1bot_5hum}, p-value = {p_items_6hum_vs_1bot_5hum}, Rank-Biserial = {r_items_6hum_vs_1bot_5hum}\")\n",
    "\n",
    "# Perform Mann-Whitney U test (alternative='greater') for the 'Score' column\n",
    "stat_score_6hum_vs_1bot_5hum, p_score_6hum_vs_1bot_5hum = mannwhitneyu(score_6hum, score_1bot_5hum, alternative='greater')\n",
    "r_score_6hum_vs_1bot_5hum = rank_biserial(score_6hum, score_1bot_5hum, alternative='greater')\n",
    "print(f\"Score 6 humans vs 1 bot, 5 humans: U-statistic = {stat_score_6hum_vs_1bot_5hum}, p-value = {p_score_6hum_vs_1bot_5hum}, Rank-Biserial = {r_score_6hum_vs_1bot_5hum}\")\n"
   ],
   "metadata": {
    "collapsed": false,
    "ExecuteTime": {
     "end_time": "2024-06-11T15:01:55.181945Z",
     "start_time": "2024-06-11T15:01:55.158468Z"
    }
   },
   "id": "5a09d7ca010e27b0",
   "execution_count": 53
  },
  {
   "cell_type": "markdown",
   "id": "5dafaa24b2610b5f",
   "metadata": {},
   "source": [
    "#### Compare: 1 bot, 5 humans vs 6 bots"
   ]
  },
  {
   "cell_type": "code",
   "execution_count": 54,
   "id": "807853e4f74d0b4",
   "metadata": {
    "collapsed": false,
    "ExecuteTime": {
     "end_time": "2024-06-11T15:01:55.555556Z",
     "start_time": "2024-06-11T15:01:55.551199Z"
    }
   },
   "outputs": [
    {
     "name": "stdout",
     "output_type": "stream",
     "text": [
      "Items 1 bot, 5 humans vs 6 bots: U-statistic = 19452.0, p-value = 0.9999754211181969, Rank-Biserial = -0.23717647058823532\n",
      "Score 1 bot, 5 humans vs 6 bots: U-statistic = 19250.5, p-value = 0.9999859320217243, Rank-Biserial = -0.24507843137254903\n"
     ]
    }
   ],
   "source": [
    "# Perform Mann-Whitney U test (alternative='greater') for the 'ItemsFound' column\n",
    "stat_items_1bot_5hum_vs_6bots, p_items_1bot_5hum_vs_6bots = mannwhitneyu(items_found_1bot_5hum, items_found_6bots, alternative='greater')\n",
    "r_items_1bot_5hum_vs_6bots = rank_biserial(items_found_1bot_5hum, items_found_6bots, alternative='greater')\n",
    "print(f\"Items 1 bot, 5 humans vs 6 bots: U-statistic = {stat_items_1bot_5hum_vs_6bots}, p-value = {p_items_1bot_5hum_vs_6bots}, Rank-Biserial = {r_items_1bot_5hum_vs_6bots}\")\n",
    "\n",
    "# Perform Mann-Whitney U test (alternative='greater') for the 'Score' column\n",
    "stat_score_1bot_5hum_vs_6bots, p_score_1bot_5hum_vs_6bots = mannwhitneyu(score_1bot_5hum, score_6bots, alternative='greater')\n",
    "r_score_1bot_5hum_vs_6bots = rank_biserial(score_1bot_5hum, score_6bots, alternative='greater')\n",
    "print(f\"Score 1 bot, 5 humans vs 6 bots: U-statistic = {stat_score_1bot_5hum_vs_6bots}, p-value = {p_score_1bot_5hum_vs_6bots}, Rank-Biserial = {r_score_1bot_5hum_vs_6bots}\")"
   ]
  },
  {
   "cell_type": "code",
   "outputs": [
    {
     "name": "stdout",
     "output_type": "stream",
     "text": [
      "Items 6 bots vs 1 bot, 5 humans: U-statistic = 31548.0, p-value = 2.464962449035513e-05, Rank-Biserial = 0.23717647058823532\n",
      "Score 6 bots vs 1 bot, 5 humans: U-statistic = 31749.5, p-value = 1.410956335957599e-05, Rank-Biserial = 0.24507843137254892\n"
     ]
    }
   ],
   "source": [
    "# Perform Mann-Whitney U test (alternative='greater') for the 'ItemsFound' column\n",
    "stat_items_6bots_vs_1bot_5hum, p_items_6bots_vs_1bot_5hum = mannwhitneyu(items_found_6bots, items_found_1bot_5hum, alternative='greater')\n",
    "r_items_6bots_vs_1bot_5hum = rank_biserial(items_found_6bots, items_found_1bot_5hum, alternative='greater')\n",
    "print(f\"Items 6 bots vs 1 bot, 5 humans: U-statistic = {stat_items_6bots_vs_1bot_5hum}, p-value = {p_items_6bots_vs_1bot_5hum}, Rank-Biserial = {r_items_6bots_vs_1bot_5hum}\")\n",
    "\n",
    "# Perform Mann-Whitney U test (alternative='greater') for the 'Score' column\n",
    "stat_score_6bots_vs_1bot_5hum, p_score_6bots_vs_1bot_5hum = mannwhitneyu(score_6bots, score_1bot_5hum, alternative='greater')\n",
    "r_score_6bots_vs_1bot_5hum = rank_biserial(score_6bots, score_1bot_5hum, alternative='greater')\n",
    "print(f\"Score 6 bots vs 1 bot, 5 humans: U-statistic = {stat_score_6bots_vs_1bot_5hum}, p-value = {p_score_6bots_vs_1bot_5hum}, Rank-Biserial = {r_score_6bots_vs_1bot_5hum}\")\n"
   ],
   "metadata": {
    "collapsed": false,
    "ExecuteTime": {
     "end_time": "2024-06-11T15:01:56.383602Z",
     "start_time": "2024-06-11T15:01:56.373858Z"
    }
   },
   "id": "ab4fb68f6ab59945",
   "execution_count": 55
  },
  {
   "cell_type": "markdown",
   "id": "d89cf42bea0da2f",
   "metadata": {},
   "source": [
    "#### Compare: 3 bots, 3 humans vs 1 bot, 5 humans"
   ]
  },
  {
   "cell_type": "code",
   "execution_count": 56,
   "id": "3c25de1a5e9bb109",
   "metadata": {
    "collapsed": false,
    "ExecuteTime": {
     "end_time": "2024-06-11T15:01:57.370024Z",
     "start_time": "2024-06-11T15:01:57.361784Z"
    }
   },
   "outputs": [
    {
     "name": "stdout",
     "output_type": "stream",
     "text": [
      "Items 3 bots, 3 humans vs 1 bot, 5 humans: U-statistic = 16886.5, p-value = 9.302451612574043e-06, Rank-Biserial = 0.2744528301886793\n",
      "Score 3 bots, 3 humans vs 1 bot, 5 humans: U-statistic = 17034.5, p-value = 4.3489311178726575e-06, Rank-Biserial = 0.28562264150943406\n"
     ]
    }
   ],
   "source": [
    "# Perform Mann-Whitney U test (alternative='greater') for the 'ItemsFound' column\n",
    "stat_items_3bots_3hum_vs_1bot_5hum, p_items_3bots_3hum_vs_1bot_5hum = mannwhitneyu(items_found_3bots_3hum, items_found_1bot_5hum, alternative='greater')\n",
    "r_items_3bots_3hum_vs_1bot_5hum = rank_biserial(items_found_3bots_3hum, items_found_1bot_5hum, alternative='greater')\n",
    "print(f\"Items 3 bots, 3 humans vs 1 bot, 5 humans: U-statistic = {stat_items_3bots_3hum_vs_1bot_5hum}, p-value = {p_items_3bots_3hum_vs_1bot_5hum}, Rank-Biserial = {r_items_3bots_3hum_vs_1bot_5hum}\")\n",
    "\n",
    "# Perform Mann-Whitney U test (alternative='greater') for the 'Score' column\n",
    "stat_score_3bots_3hum_vs_1bot_5hum, p_score_3bots_3hum_vs_1bot_5hum = mannwhitneyu(score_3bots_3hum, score_1bot_5hum, alternative='greater')\n",
    "r_score_3bots_3hum_vs_1bot_5hum = rank_biserial(score_3bots_3hum, score_1bot_5hum, alternative='greater')\n",
    "print(f\"Score 3 bots, 3 humans vs 1 bot, 5 humans: U-statistic = {stat_score_3bots_3hum_vs_1bot_5hum}, p-value = {p_score_3bots_3hum_vs_1bot_5hum}, Rank-Biserial = {r_score_3bots_3hum_vs_1bot_5hum}\")"
   ]
  },
  {
   "cell_type": "code",
   "outputs": [
    {
     "name": "stdout",
     "output_type": "stream",
     "text": [
      "Items 1 bot, 5 humans vs 3 bots, 3 humans: U-statistic = 9613.5, p-value = 0.9999907466476475, Rank-Biserial = -0.2744528301886793\n",
      "Score 1 bot, 5 humans vs 3 bots, 3 humans: U-statistic = 9465.5, p-value = 0.9999956747924442, Rank-Biserial = -0.28562264150943395\n"
     ]
    }
   ],
   "source": [
    "# Perform Mann-Whitney U test (alternative='greater') for the 'ItemsFound' column\n",
    "stat_items_1bot_5hum_vs_3bots_3hum, p_items_1bot_5hum_vs_3bots_3hum = mannwhitneyu(items_found_1bot_5hum, items_found_3bots_3hum, alternative='greater')\n",
    "r_items_1bot_5hum_vs_3bots_3hum = rank_biserial(items_found_1bot_5hum, items_found_3bots_3hum, alternative='greater')\n",
    "print(f\"Items 1 bot, 5 humans vs 3 bots, 3 humans: U-statistic = {stat_items_1bot_5hum_vs_3bots_3hum}, p-value = {p_items_1bot_5hum_vs_3bots_3hum}, Rank-Biserial = {r_items_1bot_5hum_vs_3bots_3hum}\")\n",
    "\n",
    "# Perform Mann-Whitney U test (alternative='greater') for the 'Score' column\n",
    "stat_score_1bot_5hum_vs_3bots_3hum, p_score_1bot_5hum_vs_3bots_3hum = mannwhitneyu(score_1bot_5hum, score_3bots_3hum, alternative='greater')\n",
    "r_score_1bot_5hum_vs_3bots_3hum = rank_biserial(score_1bot_5hum, score_3bots_3hum, alternative='greater')\n",
    "print(f\"Score 1 bot, 5 humans vs 3 bots, 3 humans: U-statistic = {stat_score_1bot_5hum_vs_3bots_3hum}, p-value = {p_score_1bot_5hum_vs_3bots_3hum}, Rank-Biserial = {r_score_1bot_5hum_vs_3bots_3hum}\")\n"
   ],
   "metadata": {
    "collapsed": false,
    "ExecuteTime": {
     "end_time": "2024-06-11T15:01:58.036700Z",
     "start_time": "2024-06-11T15:01:58.027440Z"
    }
   },
   "id": "58379f209f7b9f7a",
   "execution_count": 57
  },
  {
   "cell_type": "code",
   "outputs": [],
   "source": [],
   "metadata": {
    "collapsed": false
   },
   "id": "5a8c2f5e5f007abf"
  }
 ],
 "metadata": {
  "kernelspec": {
   "display_name": "Python 3 (ipykernel)",
   "language": "python",
   "name": "python3"
  },
  "language_info": {
   "codemirror_mode": {
    "name": "ipython",
    "version": 3
   },
   "file_extension": ".py",
   "mimetype": "text/x-python",
   "name": "python",
   "nbconvert_exporter": "python",
   "pygments_lexer": "ipython3",
   "version": "3.11.5"
  }
 },
 "nbformat": 4,
 "nbformat_minor": 5
}
