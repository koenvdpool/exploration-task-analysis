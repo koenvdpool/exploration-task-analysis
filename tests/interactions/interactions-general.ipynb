{
 "cells": [
  {
   "cell_type": "code",
   "outputs": [],
   "source": [
    "import pandas as pd\n",
    "from scipy.stats import shapiro, mannwhitneyu\n",
    "from scripts.utils import rank_biserial\n",
    "from scipy.stats import chi2_contingency\n",
    "import numpy as np"
   ],
   "metadata": {
    "collapsed": false,
    "ExecuteTime": {
     "end_time": "2024-06-17T10:11:35.130774Z",
     "start_time": "2024-06-17T10:11:35.114505Z"
    }
   },
   "id": "96cd341b3c1163da",
   "execution_count": 39
  },
  {
   "cell_type": "code",
   "outputs": [],
   "source": [
    "# File paths\n",
    "path_interactions_6h = \"../../csv_data/interactions/nonsem_interactions_6h.csv\"\n",
    "path_interactions_1b5h = \"../../csv_data/interactions/nonsem_interactions_1b5h.csv\"\n",
    "path_interactions_3b3h = \"../../csv_data/interactions/nonsem_interactions_3b3h.csv\"\n",
    "\n",
    "# Load the CSV files into DataFrames\n",
    "df_interactions_6h = pd.read_csv(path_interactions_6h)\n",
    "df_interactions_1b5h = pd.read_csv(path_interactions_1b5h)\n",
    "df_interactions_3b3h = pd.read_csv(path_interactions_3b3h)"
   ],
   "metadata": {
    "collapsed": true,
    "ExecuteTime": {
     "end_time": "2024-06-17T10:11:35.559777Z",
     "start_time": "2024-06-17T10:11:35.553719Z"
    }
   },
   "id": "initial_id",
   "execution_count": 40
  },
  {
   "cell_type": "markdown",
   "source": [
    "### General Interactions"
   ],
   "metadata": {
    "collapsed": false
   },
   "id": "6900051cc397927f"
  },
  {
   "cell_type": "code",
   "outputs": [
    {
     "name": "stdout",
     "output_type": "stream",
     "text": [
      "Percentage of people that interacted in 6H: 44.36%\n"
     ]
    }
   ],
   "source": [
    "# Calculate percentage of people that interacted in 6H\n",
    "total_count_6h = len(df_interactions_6h)\n",
    "count_interacted_6h = len(df_interactions_6h[df_interactions_6h['total_interactions'] > 1])\n",
    "percentage_interacted_6h = (count_interacted_6h / total_count_6h) * 100\n",
    "\n",
    "print(f\"Percentage of people that interacted in 6H: {percentage_interacted_6h:.2f}%\")"
   ],
   "metadata": {
    "collapsed": false,
    "ExecuteTime": {
     "end_time": "2024-06-17T10:11:36.399042Z",
     "start_time": "2024-06-17T10:11:36.393484Z"
    }
   },
   "id": "27b7262c3f2f4d46",
   "execution_count": 41
  },
  {
   "cell_type": "code",
   "outputs": [
    {
     "name": "stdout",
     "output_type": "stream",
     "text": [
      "Percentage of people that interacted in 1B5H: 53.85%\n"
     ]
    }
   ],
   "source": [
    "# Calculate percentage of people that interacted in 1B5H\n",
    "total_count_1b5h = len(df_interactions_1b5h)\n",
    "count_interacted_1b5h = len(df_interactions_1b5h[df_interactions_1b5h['total_interactions'] > 1])\n",
    "percentage_interacted_1b5h = (count_interacted_1b5h / total_count_1b5h) * 100\n",
    "\n",
    "print(f\"Percentage of people that interacted in 1B5H: {percentage_interacted_1b5h:.2f}%\")"
   ],
   "metadata": {
    "collapsed": false,
    "ExecuteTime": {
     "end_time": "2024-06-17T10:11:36.861749Z",
     "start_time": "2024-06-17T10:11:36.853897Z"
    }
   },
   "id": "8b7418176568f1d9",
   "execution_count": 42
  },
  {
   "cell_type": "code",
   "outputs": [
    {
     "name": "stdout",
     "output_type": "stream",
     "text": [
      "Percentage of people that interacted in 3B3H: 59.62%\n"
     ]
    }
   ],
   "source": [
    "# Calculate percentage of people that interacted in 3B3H\n",
    "total_count_3b3h = len(df_interactions_3b3h)\n",
    "count_interacted_3b3h = len(df_interactions_3b3h[df_interactions_3b3h['total_interactions'] > 1])\n",
    "percentage_interacted_3b3h = (count_interacted_3b3h / total_count_3b3h) * 100\n",
    "\n",
    "print(f\"Percentage of people that interacted in 3B3H: {percentage_interacted_3b3h:.2f}%\")"
   ],
   "metadata": {
    "collapsed": false,
    "ExecuteTime": {
     "end_time": "2024-06-17T10:11:37.284535Z",
     "start_time": "2024-06-17T10:11:37.279781Z"
    }
   },
   "id": "e646acbcc5961adb",
   "execution_count": 43
  },
  {
   "cell_type": "markdown",
   "source": [
    "### Difference in active players: 1B5H vs. 3B3H"
   ],
   "metadata": {
    "collapsed": false
   },
   "id": "58ec97686afa8bbd"
  },
  {
   "cell_type": "code",
   "outputs": [
    {
     "name": "stdout",
     "output_type": "stream",
     "text": [
      "interacted  False  True \n",
      "group                   \n",
      "1b5h           42     62\n",
      "3b3h           36     68\n",
      "6h            211    197\n"
     ]
    }
   ],
   "source": [
    "# Add the 'interacted' column\n",
    "df_interactions_6h['interacted'] = df_interactions_6h['total_interactions'] > 0\n",
    "df_interactions_1b5h['interacted'] = df_interactions_1b5h['total_interactions'] > 0\n",
    "df_interactions_3b3h['interacted'] = df_interactions_3b3h['total_interactions'] > 0\n",
    "\n",
    "# Label the groups\n",
    "df_interactions_6h['group'] = '6h'\n",
    "df_interactions_1b5h['group'] = '1b5h'\n",
    "df_interactions_3b3h['group'] = '3b3h'\n",
    "\n",
    "# Combine the data frames\n",
    "df_combined = pd.concat([df_interactions_6h, df_interactions_1b5h, df_interactions_3b3h])\n",
    "\n",
    "# Create a contingency table\n",
    "contingency_table = pd.crosstab(df_combined['group'], df_combined['interacted'])\n",
    "\n",
    "print(contingency_table)"
   ],
   "metadata": {
    "collapsed": false,
    "ExecuteTime": {
     "end_time": "2024-06-17T10:11:38.817564Z",
     "start_time": "2024-06-17T10:11:38.797616Z"
    }
   },
   "id": "32c456db59c53195",
   "execution_count": 44
  },
  {
   "cell_type": "code",
   "outputs": [
    {
     "name": "stdout",
     "output_type": "stream",
     "text": [
      "Chi-squared: 11.87372886037167\n",
      "p-value: 0.0026402955160630135\n",
      "Degrees of freedom: 2\n",
      "Expected frequencies:\n",
      "[[ 48.79220779  55.20779221]\n",
      " [ 48.79220779  55.20779221]\n",
      " [191.41558442 216.58441558]]\n",
      "There is a significant difference in interaction rates between the groups.\n"
     ]
    }
   ],
   "source": [
    "# Perform the chi-squared test\n",
    "chi2, p, dof, expected = chi2_contingency(contingency_table)\n",
    "\n",
    "# Display the results\n",
    "print(f\"Chi-squared: {chi2}\")\n",
    "print(f\"p-value: {p}\")\n",
    "print(f\"Degrees of freedom: {dof}\")\n",
    "print(\"Expected frequencies:\")\n",
    "print(expected)\n",
    "\n",
    "# Determine if there's a significant difference\n",
    "alpha = 0.05\n",
    "if p < alpha:\n",
    "    print(\"There is a significant difference in interaction rates between the groups.\")\n",
    "else:\n",
    "    print(\"There is no significant difference in interaction rates between the groups.\")"
   ],
   "metadata": {
    "collapsed": false,
    "ExecuteTime": {
     "end_time": "2024-06-17T10:11:39.850167Z",
     "start_time": "2024-06-17T10:11:39.834728Z"
    }
   },
   "id": "e27401d59d6726ef",
   "execution_count": 45
  },
  {
   "cell_type": "markdown",
   "source": [
    "### Difference in total interactions: 1B5H vs. 3B3H (All)"
   ],
   "metadata": {
    "collapsed": false
   },
   "id": "46fa5fc70597bf6b"
  },
  {
   "cell_type": "code",
   "outputs": [],
   "source": [
    "# Extract the 'items_copied' columns\n",
    "total_interactions_6h = df_interactions_6h['total_interactions']\n",
    "total_interactions_1b5h = df_interactions_1b5h['total_interactions']\n",
    "total_interactions_3b3h = df_interactions_3b3h['total_interactions']"
   ],
   "metadata": {
    "collapsed": false,
    "ExecuteTime": {
     "end_time": "2024-06-17T10:16:20.265178Z",
     "start_time": "2024-06-17T10:16:20.252564Z"
    }
   },
   "id": "7637a55bf095ed86",
   "execution_count": 47
  },
  {
   "cell_type": "code",
   "outputs": [
    {
     "name": "stdout",
     "output_type": "stream",
     "text": [
      "P-value of Shapiro-Wilk test for normality (6H): 7.607557262088692e-23\n",
      "P-value of Shapiro-Wilk test for normality (1B5H): 1.1001364225356954e-10\n",
      "P-value of Shapiro-Wilk test for normality (3B3H): 2.396852423987578e-10\n"
     ]
    }
   ],
   "source": [
    "# Check normality assumption\n",
    "total_shapiro_6h = shapiro(total_interactions_6h)\n",
    "total_shapiro_1b5h = shapiro(total_interactions_1b5h)\n",
    "total_shapiro_3b3h = shapiro(total_interactions_3b3h)\n",
    "\n",
    "print(f\"P-value of Shapiro-Wilk test for normality (6H): {total_shapiro_6h[1]}\")\n",
    "print(f\"P-value of Shapiro-Wilk test for normality (1B5H): {total_shapiro_1b5h[1]}\")\n",
    "print(f\"P-value of Shapiro-Wilk test for normality (3B3H): {total_shapiro_3b3h[1]}\")"
   ],
   "metadata": {
    "collapsed": false,
    "ExecuteTime": {
     "end_time": "2024-06-17T10:16:20.779914Z",
     "start_time": "2024-06-17T10:16:20.774858Z"
    }
   },
   "id": "9eced0fdd25a676d",
   "execution_count": 48
  },
  {
   "cell_type": "code",
   "outputs": [
    {
     "name": "stdout",
     "output_type": "stream",
     "text": [
      "Mann-Whitney U test (1B5H vs. 6H): MannwhitneyuResult(statistic=25616.5, pvalue=0.0002443063670979666)\n",
      "Mann-Whitney U test (3B3H vs. 6H): MannwhitneyuResult(statistic=27600.5, pvalue=2.385946819699146e-07)\n",
      "Mann-Whitney U test (3B3H vs. 1B5H): MannwhitneyuResult(statistic=5917.0, pvalue=0.11419760451380212)\n"
     ]
    }
   ],
   "source": [
    "# If normality is violated in either group, use Mann-Whitney U test\n",
    "if total_shapiro_1b5h.pvalue < 0.05 or total_shapiro_3b3h.pvalue < 0.05 and total_shapiro_6h.pvalue < 0.05:\n",
    "    mannwhitney_test_1b5h_6h = mannwhitneyu(total_interactions_1b5h,total_interactions_6h, alternative='greater')\n",
    "    mannwhitney_test_3b3h_6h = mannwhitneyu(total_interactions_3b3h,total_interactions_6h, alternative='greater')\n",
    "    mannwhitney_test_3b3h_1b5h = mannwhitneyu(total_interactions_3b3h, total_interactions_1b5h, alternative='greater')\n",
    "    \n",
    "    print(f\"Mann-Whitney U test (1B5H vs. 6H): {mannwhitney_test_1b5h_6h}\")\n",
    "    print(f\"Mann-Whitney U test (3B3H vs. 6H): {mannwhitney_test_3b3h_6h}\")\n",
    "    print(f\"Mann-Whitney U test (3B3H vs. 1B5H): {mannwhitney_test_3b3h_1b5h}\")"
   ],
   "metadata": {
    "collapsed": false,
    "ExecuteTime": {
     "end_time": "2024-06-17T10:23:26.419534Z",
     "start_time": "2024-06-17T10:23:26.406547Z"
    }
   },
   "id": "1de36fd4f2346f7a",
   "execution_count": 49
  },
  {
   "cell_type": "code",
   "outputs": [
    {
     "name": "stdout",
     "output_type": "stream",
     "text": [
      "Effect Size (r) for total interations (1B5H vs. 6H): 0.2074142156862746\n",
      "Effect Size (r) for total interations (3B3H vs. 6H): 0.30092854449472095\n",
      "Effect Size (r) for total interations (3B3H vs. 1B5H): 0.09411982248520712\n"
     ]
    }
   ],
   "source": [
    "# Calculate Effect Size (r) for Mann-Whitney U test\n",
    "effect_size_total_interactions_1b5h_6h = rank_biserial(total_interactions_1b5h, total_interactions_6h)\n",
    "effect_size_total_interactions_3b3h_6h = rank_biserial(total_interactions_3b3h, total_interactions_6h)\n",
    "effect_size_total_interactions_3b3h_1b5h = rank_biserial(total_interactions_3b3h, total_interactions_1b5h)\n",
    "\n",
    "print(f\"Effect Size (r) for total interations (1B5H vs. 6H): {effect_size_total_interactions_1b5h_6h}\")\n",
    "print(f\"Effect Size (r) for total interations (3B3H vs. 6H): {effect_size_total_interactions_3b3h_6h}\")\n",
    "print(f\"Effect Size (r) for total interations (3B3H vs. 1B5H): {effect_size_total_interactions_3b3h_1b5h}\")"
   ],
   "metadata": {
    "collapsed": false,
    "ExecuteTime": {
     "end_time": "2024-06-17T10:24:50.389347Z",
     "start_time": "2024-06-17T10:24:50.368377Z"
    }
   },
   "id": "b99088ca1705a238",
   "execution_count": 50
  },
  {
   "cell_type": "markdown",
   "source": [
    "### Difference in human interactions: 1B5H vs. 3B3H"
   ],
   "metadata": {
    "collapsed": false
   },
   "id": "11bbc1c9bb2ba1e0"
  },
  {
   "cell_type": "code",
   "outputs": [],
   "source": [
    "human_interactions_1b5h = df_interactions_1b5h['interactions_with_humans']\n",
    "human_interactions_3b3h = df_interactions_3b3h['interactions_with_humans']"
   ],
   "metadata": {
    "collapsed": false,
    "ExecuteTime": {
     "end_time": "2024-06-17T10:25:12.348874Z",
     "start_time": "2024-06-17T10:25:12.343032Z"
    }
   },
   "id": "3cc6885bc213bd27",
   "execution_count": 51
  },
  {
   "cell_type": "code",
   "outputs": [],
   "source": [
    "# Normalize the interactions\n",
    "normalized_interactions_1b5h = human_interactions_1b5h / 5\n",
    "normalized_interactions_3b3h = human_interactions_3b3h / 3"
   ],
   "metadata": {
    "collapsed": false,
    "ExecuteTime": {
     "end_time": "2024-06-17T10:25:12.777834Z",
     "start_time": "2024-06-17T10:25:12.768231Z"
    }
   },
   "id": "9f38548c76ff77b2",
   "execution_count": 52
  },
  {
   "cell_type": "code",
   "outputs": [
    {
     "name": "stdout",
     "output_type": "stream",
     "text": [
      "P-value of Shapiro-Wilk test for normality (Human Interaction - 1B5H): 1.5900731105063647e-13\n",
      "P-value of Shapiro-Wilk test for normality (Human Interaction - 3B3H): 1.9352382840818392e-16\n"
     ]
    }
   ],
   "source": [
    "# Check normality assumption\n",
    "human_interactions_shapiro_1b5h = shapiro(normalized_interactions_1b5h)\n",
    "human_interactions_shapiro_3b3h = shapiro(normalized_interactions_3b3h)\n",
    "\n",
    "print(f\"P-value of Shapiro-Wilk test for normality (Human Interaction - 1B5H): {human_interactions_shapiro_1b5h[1]}\")\n",
    "print(f\"P-value of Shapiro-Wilk test for normality (Human Interaction - 3B3H): {human_interactions_shapiro_3b3h[1]}\")"
   ],
   "metadata": {
    "collapsed": false,
    "ExecuteTime": {
     "end_time": "2024-06-17T10:25:13.494545Z",
     "start_time": "2024-06-17T10:25:13.485357Z"
    }
   },
   "id": "e49ee6c32b223a0a",
   "execution_count": 53
  },
  {
   "cell_type": "code",
   "outputs": [
    {
     "name": "stdout",
     "output_type": "stream",
     "text": [
      "Mann-Whitney U test: MannwhitneyuResult(statistic=4669.5, pvalue=0.028089787250912823)\n"
     ]
    }
   ],
   "source": [
    "# If normality is violated in either group, use Mann-Whitney U test\n",
    "if human_interactions_shapiro_1b5h.pvalue < 0.05 or human_interactions_shapiro_3b3h.pvalue < 0.05:   \n",
    "    mannwhitney_test = mannwhitneyu(normalized_interactions_3b3h, normalized_interactions_1b5h, alternative='less')\n",
    "    print(f\"Mann-Whitney U test: {mannwhitney_test}\")"
   ],
   "metadata": {
    "collapsed": false,
    "ExecuteTime": {
     "end_time": "2024-06-17T10:25:14.293415Z",
     "start_time": "2024-06-17T10:25:14.284148Z"
    }
   },
   "id": "e351fb9a8f36d733",
   "execution_count": 54
  },
  {
   "cell_type": "code",
   "outputs": [
    {
     "name": "stdout",
     "output_type": "stream",
     "text": [
      "Effect Size (r) for human interations: 0.13655695266272194\n"
     ]
    }
   ],
   "source": [
    "# Calculate Effect Size (r) for Mann-Whitney U test\n",
    "effect_size_human_interactions = rank_biserial(normalized_interactions_1b5h, normalized_interactions_3b3h)\n",
    "print(f\"Effect Size (r) for human interations: {effect_size_human_interactions}\")"
   ],
   "metadata": {
    "collapsed": false,
    "ExecuteTime": {
     "end_time": "2024-06-17T10:25:15.018383Z",
     "start_time": "2024-06-17T10:25:14.987952Z"
    }
   },
   "id": "d61df655633d69f0",
   "execution_count": 55
  },
  {
   "cell_type": "markdown",
   "source": [
    "### Difference in bot interactions: 1B5H vs. 3B3H"
   ],
   "metadata": {
    "collapsed": false
   },
   "id": "afd0d7e3dd2b10ac"
  },
  {
   "cell_type": "code",
   "outputs": [],
   "source": [
    "bot_interactions_1b5h = df_interactions_1b5h['interactions_with_bots']\n",
    "bot_interactions_3b3h = df_interactions_3b3h['interactions_with_bots']"
   ],
   "metadata": {
    "collapsed": false,
    "ExecuteTime": {
     "end_time": "2024-06-17T10:25:17.058897Z",
     "start_time": "2024-06-17T10:25:17.048243Z"
    }
   },
   "id": "21067f635933fd89",
   "execution_count": 56
  },
  {
   "cell_type": "code",
   "outputs": [],
   "source": [
    "# Normalize the interactions\n",
    "normalized_interactions_1b5h = bot_interactions_1b5h\n",
    "normalized_interactions_3b3h = bot_interactions_3b3h / 3"
   ],
   "metadata": {
    "collapsed": false,
    "ExecuteTime": {
     "end_time": "2024-06-17T10:25:17.662583Z",
     "start_time": "2024-06-17T10:25:17.652242Z"
    }
   },
   "id": "31bb03896e43fb91",
   "execution_count": 57
  },
  {
   "cell_type": "code",
   "outputs": [
    {
     "name": "stdout",
     "output_type": "stream",
     "text": [
      "P-value of Shapiro-Wilk test for normality (Bot Interaction - 1B5H): 3.1457695883968724e-13\n",
      "P-value of Shapiro-Wilk test for normality (Bot Interaction - 3B3H): 2.1895398544170056e-10\n"
     ]
    }
   ],
   "source": [
    "# Check normality assumption\n",
    "bot_interactions_shapiro_1b5h = shapiro(normalized_interactions_1b5h)\n",
    "bot_interactions_shapiro_3b3h = shapiro(normalized_interactions_3b3h)\n",
    "\n",
    "print(f\"P-value of Shapiro-Wilk test for normality (Bot Interaction - 1B5H): {bot_interactions_shapiro_1b5h[1]}\")\n",
    "print(f\"P-value of Shapiro-Wilk test for normality (Bot Interaction - 3B3H): {bot_interactions_shapiro_3b3h[1]}\")"
   ],
   "metadata": {
    "collapsed": false,
    "ExecuteTime": {
     "end_time": "2024-06-17T10:25:18.052072Z",
     "start_time": "2024-06-17T10:25:18.042116Z"
    }
   },
   "id": "be2b47fab34b7034",
   "execution_count": 58
  },
  {
   "cell_type": "code",
   "outputs": [
    {
     "name": "stdout",
     "output_type": "stream",
     "text": [
      "Mann-Whitney U test: MannwhitneyuResult(statistic=5813.5, pvalue=0.16531075224694652)\n"
     ]
    }
   ],
   "source": [
    "# If normality is violated in either group, use Mann-Whitney U test\n",
    "if bot_interactions_shapiro_1b5h.pvalue < 0.05 or bot_interactions_shapiro_3b3h.pvalue < 0.05:   \n",
    "    mannwhitney_test = mannwhitneyu(normalized_interactions_3b3h, normalized_interactions_1b5h, alternative='greater')\n",
    "    print(f\"Mann-Whitney U test: {mannwhitney_test}\")"
   ],
   "metadata": {
    "collapsed": false,
    "ExecuteTime": {
     "end_time": "2024-06-17T10:25:19.511438Z",
     "start_time": "2024-06-17T10:25:19.506215Z"
    }
   },
   "id": "a6adbdba9cf2ddc2",
   "execution_count": 59
  },
  {
   "cell_type": "code",
   "outputs": [
    {
     "name": "stdout",
     "output_type": "stream",
     "text": [
      "Effect Size (r) for bot interations: -0.07498150887573962\n"
     ]
    }
   ],
   "source": [
    "# Calculate Effect Size (r) for Mann-Whitney U test\n",
    "effect_size_bot_interactions = rank_biserial(normalized_interactions_1b5h, normalized_interactions_3b3h)\n",
    "print(f\"Effect Size (r) for bot interations: {effect_size_bot_interactions}\")"
   ],
   "metadata": {
    "collapsed": false,
    "ExecuteTime": {
     "end_time": "2024-06-17T10:25:20.102845Z",
     "start_time": "2024-06-17T10:25:20.089143Z"
    }
   },
   "id": "f2706590c5d16e1c",
   "execution_count": 60
  },
  {
   "cell_type": "code",
   "outputs": [],
   "source": [],
   "metadata": {
    "collapsed": false
   },
   "id": "5dda1cec1907b3f"
  }
 ],
 "metadata": {
  "kernelspec": {
   "display_name": "Python 3",
   "language": "python",
   "name": "python3"
  },
  "language_info": {
   "codemirror_mode": {
    "name": "ipython",
    "version": 2
   },
   "file_extension": ".py",
   "mimetype": "text/x-python",
   "name": "python",
   "nbconvert_exporter": "python",
   "pygments_lexer": "ipython2",
   "version": "2.7.6"
  }
 },
 "nbformat": 4,
 "nbformat_minor": 5
}
