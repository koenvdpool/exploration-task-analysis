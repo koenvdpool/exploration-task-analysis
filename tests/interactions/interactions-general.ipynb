{
 "cells": [
  {
   "cell_type": "code",
   "outputs": [],
   "source": [
    "import pandas as pd\n",
    "from scipy.stats import shapiro, mannwhitneyu\n",
    "from scripts.utils import rank_biserial\n",
    "from scipy.stats import chi2_contingency"
   ],
   "metadata": {
    "collapsed": false,
    "ExecuteTime": {
     "end_time": "2024-06-16T19:09:58.913630Z",
     "start_time": "2024-06-16T19:09:58.908320Z"
    }
   },
   "id": "96cd341b3c1163da",
   "execution_count": 1
  },
  {
   "cell_type": "code",
   "outputs": [],
   "source": [
    "# File paths\n",
    "path_interactions_1b5h = \"../../csv_data/interactions/nonsem_interactions_1b5h.csv\"\n",
    "path_interactions_3b3h = \"../../csv_data/interactions/nonsem_interactions_3b3h.csv\"\n",
    "\n",
    "# Load the CSV files into DataFrames\n",
    "df_interactions_1b5h = pd.read_csv(path_interactions_1b5h)\n",
    "df_interactions_3b3h = pd.read_csv(path_interactions_3b3h)"
   ],
   "metadata": {
    "collapsed": true,
    "ExecuteTime": {
     "end_time": "2024-06-16T19:09:59.898760Z",
     "start_time": "2024-06-16T19:09:59.885107Z"
    }
   },
   "id": "initial_id",
   "execution_count": 2
  },
  {
   "cell_type": "markdown",
   "source": [
    "### General Interactions"
   ],
   "metadata": {
    "collapsed": false
   },
   "id": "6900051cc397927f"
  },
  {
   "cell_type": "code",
   "outputs": [
    {
     "name": "stdout",
     "output_type": "stream",
     "text": [
      "Percentage of people that interacted in 1B5H: 54.81%\n"
     ]
    }
   ],
   "source": [
    "# Calculate percentage of people that interacted in 1B5H\n",
    "total_count_1b5h = len(df_interactions_1b5h)\n",
    "count_interacted_1b5h = len(df_interactions_1b5h[df_interactions_1b5h['total_interactions'] > 1])\n",
    "percentage_interacted_1b5h = (count_interacted_1b5h / total_count_1b5h) * 100\n",
    "\n",
    "print(f\"Percentage of people that interacted in 1B5H: {percentage_interacted_1b5h:.2f}%\")"
   ],
   "metadata": {
    "collapsed": false,
    "ExecuteTime": {
     "end_time": "2024-06-16T19:10:02.423725Z",
     "start_time": "2024-06-16T19:10:02.419810Z"
    }
   },
   "id": "8b7418176568f1d9",
   "execution_count": 3
  },
  {
   "cell_type": "code",
   "outputs": [
    {
     "name": "stdout",
     "output_type": "stream",
     "text": [
      "Percentage of people that interacted in 3B3H: 59.62%\n"
     ]
    }
   ],
   "source": [
    "# Calculate percentage of people that interacted in 3B3H\n",
    "total_count_3b3h = len(df_interactions_3b3h)\n",
    "count_interacted_3b3h = len(df_interactions_3b3h[df_interactions_3b3h['total_interactions'] > 1])\n",
    "percentage_interacted_3b3h = (count_interacted_3b3h / total_count_3b3h) * 100\n",
    "\n",
    "print(f\"Percentage of people that interacted in 3B3H: {percentage_interacted_3b3h:.2f}%\")"
   ],
   "metadata": {
    "collapsed": false,
    "ExecuteTime": {
     "end_time": "2024-06-16T19:10:03.233142Z",
     "start_time": "2024-06-16T19:10:03.221635Z"
    }
   },
   "id": "e646acbcc5961adb",
   "execution_count": 4
  },
  {
   "cell_type": "markdown",
   "source": [
    "### Difference in active players: 1B5H vs. 3B3H"
   ],
   "metadata": {
    "collapsed": false
   },
   "id": "58ec97686afa8bbd"
  },
  {
   "cell_type": "code",
   "outputs": [
    {
     "name": "stdout",
     "output_type": "stream",
     "text": [
      "interacted  False  True \n",
      "group                   \n",
      "1b5h           42     62\n",
      "3b3h           36     68\n"
     ]
    }
   ],
   "source": [
    "# Add the 'interacted' column to both dataframes\n",
    "df_interactions_1b5h['interacted'] = df_interactions_1b5h['total_interactions'] > 0\n",
    "df_interactions_3b3h['interacted'] = df_interactions_3b3h['total_interactions'] > 0\n",
    "\n",
    "# Label the groups\n",
    "df_interactions_1b5h['group'] = '1b5h'\n",
    "df_interactions_3b3h['group'] = '3b3h'\n",
    "\n",
    "# Combine the dataframes\n",
    "combined_df = pd.concat([df_interactions_1b5h, df_interactions_3b3h])\n",
    "\n",
    "# Create a contingency table\n",
    "contingency_table = pd.crosstab(combined_df['group'], combined_df['interacted'])\n",
    "\n",
    "print(contingency_table)"
   ],
   "metadata": {
    "collapsed": false,
    "ExecuteTime": {
     "end_time": "2024-06-16T19:10:07.803938Z",
     "start_time": "2024-06-16T19:10:07.794710Z"
    }
   },
   "id": "32c456db59c53195",
   "execution_count": 5
  },
  {
   "cell_type": "code",
   "outputs": [
    {
     "name": "stdout",
     "output_type": "stream",
     "text": [
      "Chi-Square statistic: 0.513, p-value: 0.474\n"
     ]
    }
   ],
   "source": [
    "# Perform the Chi-Square Test of Independence\n",
    "chi2, p, _, _ = chi2_contingency(contingency_table)\n",
    "\n",
    "print('Chi-Square statistic: {:.3f}, p-value: {:.3f}'.format(chi2, p))"
   ],
   "metadata": {
    "collapsed": false,
    "ExecuteTime": {
     "end_time": "2024-06-16T19:10:09.942611Z",
     "start_time": "2024-06-16T19:10:09.936999Z"
    }
   },
   "id": "e27401d59d6726ef",
   "execution_count": 6
  },
  {
   "cell_type": "markdown",
   "source": [
    "### Difference in total interactions: 1B5H vs. 3B3H (All)"
   ],
   "metadata": {
    "collapsed": false
   },
   "id": "46fa5fc70597bf6b"
  },
  {
   "cell_type": "code",
   "outputs": [],
   "source": [
    "# Extract the 'items_copied' columns\n",
    "total_interactions_1b5h = df_interactions_1b5h['total_interactions']\n",
    "total_interactions_3b3h = df_interactions_3b3h['total_interactions']"
   ],
   "metadata": {
    "collapsed": false,
    "ExecuteTime": {
     "end_time": "2024-06-16T19:10:12.576053Z",
     "start_time": "2024-06-16T19:10:12.568115Z"
    }
   },
   "id": "7637a55bf095ed86",
   "execution_count": 7
  },
  {
   "cell_type": "code",
   "outputs": [
    {
     "name": "stdout",
     "output_type": "stream",
     "text": [
      "P-value of Shapiro-Wilk test for normality (1B5H): 4.2750247722536987e-11\n",
      "P-value of Shapiro-Wilk test for normality (3B3H): 8.991655573996217e-11\n"
     ]
    }
   ],
   "source": [
    "# Check normality assumption\n",
    "total_shapiro_1b5h = shapiro(total_interactions_1b5h)\n",
    "total_shapiro_3b3h = shapiro(total_interactions_3b3h)\n",
    "\n",
    "print(f\"P-value of Shapiro-Wilk test for normality (1B5H): {total_shapiro_1b5h[1]}\")\n",
    "print(f\"P-value of Shapiro-Wilk test for normality (3B3H): {total_shapiro_3b3h[1]}\")"
   ],
   "metadata": {
    "collapsed": false,
    "ExecuteTime": {
     "end_time": "2024-06-16T19:10:13.180854Z",
     "start_time": "2024-06-16T19:10:13.170170Z"
    }
   },
   "id": "9eced0fdd25a676d",
   "execution_count": 8
  },
  {
   "cell_type": "code",
   "outputs": [
    {
     "name": "stdout",
     "output_type": "stream",
     "text": [
      "Mann-Whitney U test: MannwhitneyuResult(statistic=5838.5, pvalue=0.15421694337746855)\n"
     ]
    }
   ],
   "source": [
    "# If normality is violated in either group, use Mann-Whitney U test\n",
    "if total_shapiro_1b5h.pvalue < 0.05 or total_shapiro_3b3h.pvalue < 0.05:   \n",
    "    mannwhitney_test = mannwhitneyu(total_interactions_3b3h, total_interactions_1b5h, alternative='greater')\n",
    "    print(f\"Mann-Whitney U test: {mannwhitney_test}\")"
   ],
   "metadata": {
    "collapsed": false,
    "ExecuteTime": {
     "end_time": "2024-06-16T19:10:14.616828Z",
     "start_time": "2024-06-16T19:10:14.602370Z"
    }
   },
   "id": "1de36fd4f2346f7a",
   "execution_count": 9
  },
  {
   "cell_type": "code",
   "outputs": [
    {
     "name": "stdout",
     "output_type": "stream",
     "text": [
      "Effect Size (r) for total interations: 0.07960428994082847\n"
     ]
    }
   ],
   "source": [
    "# Calculate Effect Size (r) for Mann-Whitney U test\n",
    "effect_size_total_interactions = rank_biserial(total_interactions_3b3h, total_interactions_1b5h)\n",
    "print(f\"Effect Size (r) for total interations: {effect_size_total_interactions}\")"
   ],
   "metadata": {
    "collapsed": false,
    "ExecuteTime": {
     "end_time": "2024-06-16T19:10:18.273650Z",
     "start_time": "2024-06-16T19:10:18.256820Z"
    }
   },
   "id": "b99088ca1705a238",
   "execution_count": 10
  },
  {
   "cell_type": "markdown",
   "source": [
    "### Difference in human interactions: 1B5H vs. 3B3H"
   ],
   "metadata": {
    "collapsed": false
   },
   "id": "11bbc1c9bb2ba1e0"
  },
  {
   "cell_type": "code",
   "outputs": [],
   "source": [
    "human_interactions_1b5h = df_interactions_1b5h['interactions_with_humans']\n",
    "human_interactions_3b3h = df_interactions_3b3h['interactions_with_humans']"
   ],
   "metadata": {
    "collapsed": false,
    "ExecuteTime": {
     "end_time": "2024-06-16T19:10:19.837961Z",
     "start_time": "2024-06-16T19:10:19.830921Z"
    }
   },
   "id": "3cc6885bc213bd27",
   "execution_count": 11
  },
  {
   "cell_type": "code",
   "outputs": [],
   "source": [
    "# Normalize the interactions\n",
    "normalized_interactions_1b5h = human_interactions_1b5h / 5\n",
    "normalized_interactions_3b3h = human_interactions_3b3h / 3"
   ],
   "metadata": {
    "collapsed": false,
    "ExecuteTime": {
     "end_time": "2024-06-16T19:10:20.232843Z",
     "start_time": "2024-06-16T19:10:20.226939Z"
    }
   },
   "id": "9f38548c76ff77b2",
   "execution_count": 12
  },
  {
   "cell_type": "code",
   "outputs": [
    {
     "name": "stdout",
     "output_type": "stream",
     "text": [
      "P-value of Shapiro-Wilk test for normality (Human Interaction - 1B5H): 5.722868126544044e-14\n",
      "P-value of Shapiro-Wilk test for normality (Human Interaction - 3B3H): 3.828374527462227e-16\n"
     ]
    }
   ],
   "source": [
    "# Check normality assumption\n",
    "human_interactions_shapiro_1b5h = shapiro(normalized_interactions_1b5h)\n",
    "human_interactions_shapiro_3b3h = shapiro(normalized_interactions_3b3h)\n",
    "\n",
    "print(f\"P-value of Shapiro-Wilk test for normality (Human Interaction - 1B5H): {human_interactions_shapiro_1b5h[1]}\")\n",
    "print(f\"P-value of Shapiro-Wilk test for normality (Human Interaction - 3B3H): {human_interactions_shapiro_3b3h[1]}\")"
   ],
   "metadata": {
    "collapsed": false,
    "ExecuteTime": {
     "end_time": "2024-06-16T19:10:20.707554Z",
     "start_time": "2024-06-16T19:10:20.701618Z"
    }
   },
   "id": "e49ee6c32b223a0a",
   "execution_count": 13
  },
  {
   "cell_type": "code",
   "outputs": [
    {
     "name": "stdout",
     "output_type": "stream",
     "text": [
      "Mann-Whitney U test: MannwhitneyuResult(statistic=4662.0, pvalue=0.026866141096817796)\n"
     ]
    }
   ],
   "source": [
    "# If normality is violated in either group, use Mann-Whitney U test\n",
    "if human_interactions_shapiro_1b5h.pvalue < 0.05 or human_interactions_shapiro_3b3h.pvalue < 0.05:   \n",
    "    mannwhitney_test = mannwhitneyu(normalized_interactions_3b3h, normalized_interactions_1b5h, alternative='less')\n",
    "    print(f\"Mann-Whitney U test: {mannwhitney_test}\")"
   ],
   "metadata": {
    "collapsed": false,
    "ExecuteTime": {
     "end_time": "2024-06-16T19:10:22.628522Z",
     "start_time": "2024-06-16T19:10:22.623649Z"
    }
   },
   "id": "e351fb9a8f36d733",
   "execution_count": 14
  },
  {
   "cell_type": "code",
   "outputs": [
    {
     "name": "stdout",
     "output_type": "stream",
     "text": [
      "Effect Size (r) for human interations: 0.13794378698224863\n"
     ]
    }
   ],
   "source": [
    "# Calculate Effect Size (r) for Mann-Whitney U test\n",
    "effect_size_human_interactions = rank_biserial(normalized_interactions_1b5h, normalized_interactions_3b3h)\n",
    "print(f\"Effect Size (r) for human interations: {effect_size_human_interactions}\")"
   ],
   "metadata": {
    "collapsed": false,
    "ExecuteTime": {
     "end_time": "2024-06-16T19:10:25.648624Z",
     "start_time": "2024-06-16T19:10:25.640912Z"
    }
   },
   "id": "d61df655633d69f0",
   "execution_count": 15
  },
  {
   "cell_type": "markdown",
   "source": [
    "### Difference in bot interactions: 1B5H vs. 3B3H"
   ],
   "metadata": {
    "collapsed": false
   },
   "id": "afd0d7e3dd2b10ac"
  },
  {
   "cell_type": "code",
   "outputs": [],
   "source": [
    "bot_interactions_1b5h = df_interactions_1b5h['interactions_with_bots']\n",
    "bot_interactions_3b3h = df_interactions_3b3h['interactions_with_bots']"
   ],
   "metadata": {
    "collapsed": false,
    "ExecuteTime": {
     "end_time": "2024-06-16T19:10:26.823470Z",
     "start_time": "2024-06-16T19:10:26.818253Z"
    }
   },
   "id": "21067f635933fd89",
   "execution_count": 16
  },
  {
   "cell_type": "code",
   "outputs": [],
   "source": [
    "# Normalize the interactions\n",
    "normalized_interactions_1b5h = bot_interactions_1b5h\n",
    "normalized_interactions_3b3h = bot_interactions_3b3h / 3"
   ],
   "metadata": {
    "collapsed": false,
    "ExecuteTime": {
     "end_time": "2024-06-16T19:10:27.073940Z",
     "start_time": "2024-06-16T19:10:27.064780Z"
    }
   },
   "id": "31bb03896e43fb91",
   "execution_count": 17
  },
  {
   "cell_type": "code",
   "outputs": [
    {
     "name": "stdout",
     "output_type": "stream",
     "text": [
      "P-value of Shapiro-Wilk test for normality (Bot Interaction - 1B5H): 1.6042980956818937e-14\n",
      "P-value of Shapiro-Wilk test for normality (Bot Interaction - 3B3H): 3.857941034096243e-11\n"
     ]
    }
   ],
   "source": [
    "# Check normality assumption\n",
    "bot_interactions_shapiro_1b5h = shapiro(normalized_interactions_1b5h)\n",
    "bot_interactions_shapiro_3b3h = shapiro(normalized_interactions_3b3h)\n",
    "\n",
    "print(f\"P-value of Shapiro-Wilk test for normality (Bot Interaction - 1B5H): {bot_interactions_shapiro_1b5h[1]}\")\n",
    "print(f\"P-value of Shapiro-Wilk test for normality (Bot Interaction - 3B3H): {bot_interactions_shapiro_3b3h[1]}\")"
   ],
   "metadata": {
    "collapsed": false,
    "ExecuteTime": {
     "end_time": "2024-06-16T19:10:27.471794Z",
     "start_time": "2024-06-16T19:10:27.466020Z"
    }
   },
   "id": "be2b47fab34b7034",
   "execution_count": 18
  },
  {
   "cell_type": "code",
   "outputs": [
    {
     "name": "stdout",
     "output_type": "stream",
     "text": [
      "Mann-Whitney U test: MannwhitneyuResult(statistic=5855.5, pvalue=0.1414574466101397)\n"
     ]
    }
   ],
   "source": [
    "# If normality is violated in either group, use Mann-Whitney U test\n",
    "if bot_interactions_shapiro_1b5h.pvalue < 0.05 or bot_interactions_shapiro_3b3h.pvalue < 0.05:   \n",
    "    mannwhitney_test = mannwhitneyu(normalized_interactions_3b3h, normalized_interactions_1b5h, alternative='greater')\n",
    "    print(f\"Mann-Whitney U test: {mannwhitney_test}\")"
   ],
   "metadata": {
    "collapsed": false,
    "ExecuteTime": {
     "end_time": "2024-06-16T19:10:28.717586Z",
     "start_time": "2024-06-16T19:10:28.712401Z"
    }
   },
   "id": "a6adbdba9cf2ddc2",
   "execution_count": 19
  },
  {
   "cell_type": "code",
   "outputs": [
    {
     "name": "stdout",
     "output_type": "stream",
     "text": [
      "Effect Size (r) for bot interations: -0.08274778106508873\n"
     ]
    }
   ],
   "source": [
    "# Calculate Effect Size (r) for Mann-Whitney U test\n",
    "effect_size_bot_interactions = rank_biserial(normalized_interactions_1b5h, normalized_interactions_3b3h)\n",
    "print(f\"Effect Size (r) for bot interations: {effect_size_bot_interactions}\")"
   ],
   "metadata": {
    "collapsed": false,
    "ExecuteTime": {
     "end_time": "2024-06-16T19:10:30.002013Z",
     "start_time": "2024-06-16T19:10:29.997980Z"
    }
   },
   "id": "f2706590c5d16e1c",
   "execution_count": 20
  },
  {
   "cell_type": "code",
   "outputs": [],
   "source": [],
   "metadata": {
    "collapsed": false
   },
   "id": "5dda1cec1907b3f"
  }
 ],
 "metadata": {
  "kernelspec": {
   "display_name": "Python 3",
   "language": "python",
   "name": "python3"
  },
  "language_info": {
   "codemirror_mode": {
    "name": "ipython",
    "version": 2
   },
   "file_extension": ".py",
   "mimetype": "text/x-python",
   "name": "python",
   "nbconvert_exporter": "python",
   "pygments_lexer": "ipython2",
   "version": "2.7.6"
  }
 },
 "nbformat": 4,
 "nbformat_minor": 5
}
